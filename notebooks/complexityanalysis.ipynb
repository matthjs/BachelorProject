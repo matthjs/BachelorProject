{
 "cells": [
  {
   "cell_type": "code",
   "execution_count": 2,
   "id": "initial_id",
   "metadata": {
    "collapsed": true,
    "ExecuteTime": {
     "end_time": "2024-06-01T13:04:48.701957Z",
     "start_time": "2024-06-01T13:04:48.644349700Z"
    }
   },
   "outputs": [
    {
     "name": "stdout",
     "output_type": "stream",
     "text": [
      "Total GPU Memory: 16.00 GB\n",
      "Used GPU Memory: 2.31 GB\n"
     ]
    }
   ],
   "source": [
    "import pynvml\n",
    "\n",
    "\n",
    "def get_gpu_memory_usage():\n",
    "    pynvml.nvmlInit()\n",
    "    handle = pynvml.nvmlDeviceGetHandleByIndex(0)  # Assuming you have only one GPU\n",
    "    mem_info = pynvml.nvmlDeviceGetMemoryInfo(handle)\n",
    "    total_memory = mem_info.total  # in bytes\n",
    "    used_memory = mem_info.used  # in bytes\n",
    "    pynvml.nvmlShutdown()\n",
    "    return total_memory / (1024 ** 3), used_memory / (1024 ** 3)  # Convert bytes to gigabytes\n",
    "\n",
    "total_memory_gb, used_memory_gb = get_gpu_memory_usage()\n",
    "print(f\"Total GPU Memory: {total_memory_gb:.2f} GB\")\n",
    "print(f\"Used GPU Memory: {used_memory_gb:.2f} GB\")"
   ]
  }
 ],
 "metadata": {
  "kernelspec": {
   "display_name": "Python 3",
   "language": "python",
   "name": "python3"
  },
  "language_info": {
   "codemirror_mode": {
    "name": "ipython",
    "version": 2
   },
   "file_extension": ".py",
   "mimetype": "text/x-python",
   "name": "python",
   "nbconvert_exporter": "python",
   "pygments_lexer": "ipython2",
   "version": "2.7.6"
  }
 },
 "nbformat": 4,
 "nbformat_minor": 5
}
