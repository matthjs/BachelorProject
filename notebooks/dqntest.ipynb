{
 "cells": [
  {
   "cell_type": "code",
   "execution_count": 6,
   "outputs": [],
   "source": [
    "# Define hyperparameters\n",
    "policy = \"MlpPolicy\"\n",
    "learning_rate = 2.3e-3\n",
    "batch_size = 64\n",
    "buffer_size = 100000\n",
    "learning_starts = 1000\n",
    "gamma = 0.99\n",
    "target_update_interval = 10\n",
    "train_freq = 256\n",
    "gradient_steps = 128\n",
    "exploration_fraction = 0.16\n",
    "exploration_final_eps = 0.04\n",
    "policy_kwargs = dict(net_arch=[256, 256])\n"
   ],
   "metadata": {
    "collapsed": false,
    "ExecuteTime": {
     "end_time": "2024-05-20T16:24:46.768112300Z",
     "start_time": "2024-05-20T16:24:46.766114700Z"
    }
   },
   "id": "73bf8f05843eac0b"
  },
  {
   "cell_type": "code",
   "execution_count": 7,
   "id": "initial_id",
   "metadata": {
    "collapsed": true,
    "ExecuteTime": {
     "end_time": "2024-05-20T16:26:49.865514400Z",
     "start_time": "2024-05-20T16:25:21.784426700Z"
    }
   },
   "outputs": [
    {
     "name": "stdout",
     "output_type": "stream",
     "text": [
      "Mean reward: 102.40 +/- 2.06\n"
     ]
    }
   ],
   "source": [
    "import gymnasium as gym\n",
    "from stable_baselines3 import DQN\n",
    "from stable_baselines3.common.evaluation import evaluate_policy\n",
    "\n",
    "# Create the CartPole environment\n",
    "env = gym.make('CartPole-v1')\n",
    "\n",
    "# Instantiate the DQN agent\n",
    "model = DQN(\n",
    "    policy=policy,\n",
    "    env=env,\n",
    "    learning_rate=learning_rate,\n",
    "    batch_size=batch_size,\n",
    "    buffer_size=buffer_size,\n",
    "    learning_starts=learning_starts,\n",
    "    gamma=gamma,\n",
    "    target_update_interval=target_update_interval,\n",
    "    train_freq=train_freq,\n",
    "    gradient_steps=gradient_steps,\n",
    "    exploration_fraction=exploration_fraction,\n",
    "    exploration_final_eps=exploration_final_eps,\n",
    "    policy_kwargs=policy_kwargs\n",
    ")\n",
    "\n",
    "# Train the agent\n",
    "model.learn(total_timesteps=int(5e4))\n",
    "\n",
    "# Evaluate the agent\n",
    "mean_reward, std_reward = evaluate_policy(model, env, n_eval_episodes=10)\n",
    "\n",
    "print(f\"Mean reward: {mean_reward:.2f} +/- {std_reward:.2f}\")\n"
   ]
  },
  {
   "cell_type": "code",
   "execution_count": 16,
   "outputs": [
    {
     "name": "stdout",
     "output_type": "stream",
     "text": [
      "Mean reward: 274.10 +/- 62.88\n"
     ]
    }
   ],
   "source": [
    "from callbacks.dummycallback import DummyCallback\n",
    "from callbacks.rewardcallback import RewardCallback\n",
    "from callbacks.sbcallbackadapter import StableBaselinesCallbackAdapter\n",
    "from stable_baselines3.common.callbacks import StopTrainingOnMaxEpisodes\n",
    "import gymnasium as gym\n",
    "from stable_baselines3 import DQN\n",
    "from stable_baselines3.common.evaluation import evaluate_policy\n",
    "\n",
    "# Create the CartPole environment\n",
    "env = gym.make('CartPole-v1')\n",
    "\n",
    "# Instantiate the DQN agent\n",
    "model = DQN(\n",
    "    policy=policy,\n",
    "    env=env,\n",
    "    learning_rate=learning_rate,\n",
    "    batch_size=batch_size,\n",
    "    buffer_size=buffer_size,\n",
    "    learning_starts=learning_starts,\n",
    "    gamma=gamma,\n",
    "    target_update_interval=target_update_interval,\n",
    "    train_freq=train_freq,\n",
    "    gradient_steps=gradient_steps,\n",
    "    exploration_fraction=exploration_fraction,\n",
    "    exploration_final_eps=exploration_final_eps,\n",
    "    policy_kwargs=policy_kwargs\n",
    ")\n",
    "\n",
    "# Train the agent\n",
    "# max_episodes set such that the learning does not stop early.\n",
    "model.learn(total_timesteps=int(216942042) , callback=[StopTrainingOnMaxEpisodes(max_episodes=int(100)),\n",
    "                                                       StableBaselinesCallbackAdapter(DummyCallback())])\n",
    "\n",
    "# Evaluate the agent\n",
    "mean_reward, std_reward = evaluate_policy(model, env, n_eval_episodes=10)\n",
    "\n",
    "print(f\"Mean reward: {mean_reward:.2f} +/- {std_reward:.2f}\")"
   ],
   "metadata": {
    "collapsed": false,
    "ExecuteTime": {
     "end_time": "2024-05-20T16:37:14.489224500Z",
     "start_time": "2024-05-20T16:37:10.367893200Z"
    }
   },
   "id": "bd3da1c2de5d2ba4"
  }
 ],
 "metadata": {
  "kernelspec": {
   "display_name": "Python 3",
   "language": "python",
   "name": "python3"
  },
  "language_info": {
   "codemirror_mode": {
    "name": "ipython",
    "version": 2
   },
   "file_extension": ".py",
   "mimetype": "text/x-python",
   "name": "python",
   "nbconvert_exporter": "python",
   "pygments_lexer": "ipython2",
   "version": "2.7.6"
  }
 },
 "nbformat": 4,
 "nbformat_minor": 5
}
