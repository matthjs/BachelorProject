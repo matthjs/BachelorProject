{
 "cells": [
  {
   "cell_type": "code",
   "execution_count": 9,
   "outputs": [],
   "source": [
    "# Define hyperparameters\n",
    "policy = \"MlpPolicy\"\n",
    "learning_rate = 2.3e-3\n",
    "batch_size = 64\n",
    "buffer_size = 100000\n",
    "learning_starts = 1000\n",
    "gamma = 0.99\n",
    "target_update_interval = 10\n",
    "train_freq = 256\n",
    "gradient_steps = 128\n",
    "exploration_fraction = 0.16\n",
    "exploration_final_eps = 0.04\n",
    "policy_kwargs = dict(net_arch=[256, 256])\n"
   ],
   "metadata": {
    "collapsed": false,
    "ExecuteTime": {
     "end_time": "2024-05-22T10:16:15.957258Z",
     "start_time": "2024-05-22T10:16:15.955008Z"
    }
   },
   "id": "73bf8f05843eac0b"
  },
  {
   "cell_type": "code",
   "execution_count": 10,
   "id": "initial_id",
   "metadata": {
    "collapsed": true,
    "ExecuteTime": {
     "end_time": "2024-05-22T10:16:16.008547Z",
     "start_time": "2024-05-22T10:16:15.958120Z"
    }
   },
   "outputs": [
    {
     "name": "stdout",
     "output_type": "stream",
     "text": [
      "{'policy_class': <class 'stable_baselines3.dqn.policies.DQNPolicy'>, 'device': device(type='cuda'), 'verbose': 0, 'policy_kwargs': {'net_arch': [256, 256]}, 'num_timesteps': 0, '_total_timesteps': 0, '_num_timesteps_at_start': 0, 'seed': None, 'action_noise': None, 'start_time': 0.0, 'learning_rate': 0.0023, 'tensorboard_log': None, '_last_obs': None, '_last_episode_starts': None, '_last_original_obs': None, '_episode_num': 0, 'use_sde': False, 'sde_sample_freq': -1, '_current_progress_remaining': 1.0, '_stats_window_size': 100, 'ep_info_buffer': None, 'ep_success_buffer': None, '_n_updates': 0, '_custom_logger': False, 'env': <stable_baselines3.common.vec_env.dummy_vec_env.DummyVecEnv object at 0x7f194eb781f0>, '_vec_normalize_env': None, 'observation_space': Box([-4.8000002e+00 -3.4028235e+38 -4.1887903e-01 -3.4028235e+38], [4.8000002e+00 3.4028235e+38 4.1887903e-01 3.4028235e+38], (4,), float32), 'action_space': Discrete(2), 'n_envs': 1, 'buffer_size': 100000, 'batch_size': 64, 'learning_starts': 1000, 'tau': 1.0, 'gamma': 0.99, 'gradient_steps': 128, 'optimize_memory_usage': False, 'replay_buffer': <stable_baselines3.common.buffers.ReplayBuffer object at 0x7f194eb7a710>, 'replay_buffer_class': <class 'stable_baselines3.common.buffers.ReplayBuffer'>, 'replay_buffer_kwargs': {}, '_episode_storage': None, 'train_freq': TrainFreq(frequency=256, unit=<TrainFrequencyUnit.STEP: 'step'>), 'use_sde_at_warmup': False, 'exploration_initial_eps': 1.0, 'exploration_final_eps': 0.04, 'exploration_fraction': 0.16, 'target_update_interval': 10, '_n_calls': 0, 'max_grad_norm': 10, 'exploration_rate': 0.0, 'lr_schedule': <function constant_fn.<locals>.func at 0x7f194ebe28c0>, 'policy': DQNPolicy(\n",
      "  (q_net): QNetwork(\n",
      "    (features_extractor): FlattenExtractor(\n",
      "      (flatten): Flatten(start_dim=1, end_dim=-1)\n",
      "    )\n",
      "    (q_net): Sequential(\n",
      "      (0): Linear(in_features=4, out_features=256, bias=True)\n",
      "      (1): ReLU()\n",
      "      (2): Linear(in_features=256, out_features=256, bias=True)\n",
      "      (3): ReLU()\n",
      "      (4): Linear(in_features=256, out_features=2, bias=True)\n",
      "    )\n",
      "  )\n",
      "  (q_net_target): QNetwork(\n",
      "    (features_extractor): FlattenExtractor(\n",
      "      (flatten): Flatten(start_dim=1, end_dim=-1)\n",
      "    )\n",
      "    (q_net): Sequential(\n",
      "      (0): Linear(in_features=4, out_features=256, bias=True)\n",
      "      (1): ReLU()\n",
      "      (2): Linear(in_features=256, out_features=256, bias=True)\n",
      "      (3): ReLU()\n",
      "      (4): Linear(in_features=256, out_features=2, bias=True)\n",
      "    )\n",
      "  )\n",
      "), 'q_net': QNetwork(\n",
      "  (features_extractor): FlattenExtractor(\n",
      "    (flatten): Flatten(start_dim=1, end_dim=-1)\n",
      "  )\n",
      "  (q_net): Sequential(\n",
      "    (0): Linear(in_features=4, out_features=256, bias=True)\n",
      "    (1): ReLU()\n",
      "    (2): Linear(in_features=256, out_features=256, bias=True)\n",
      "    (3): ReLU()\n",
      "    (4): Linear(in_features=256, out_features=2, bias=True)\n",
      "  )\n",
      "), 'q_net_target': QNetwork(\n",
      "  (features_extractor): FlattenExtractor(\n",
      "    (flatten): Flatten(start_dim=1, end_dim=-1)\n",
      "  )\n",
      "  (q_net): Sequential(\n",
      "    (0): Linear(in_features=4, out_features=256, bias=True)\n",
      "    (1): ReLU()\n",
      "    (2): Linear(in_features=256, out_features=256, bias=True)\n",
      "    (3): ReLU()\n",
      "    (4): Linear(in_features=256, out_features=2, bias=True)\n",
      "  )\n",
      "), 'batch_norm_stats': [], 'batch_norm_stats_target': [], 'exploration_schedule': <function get_linear_fn.<locals>.func at 0x7f194ebe23b0>}\n",
      "Mean reward: 13.50 +/- 2.29\n"
     ]
    }
   ],
   "source": [
    "import gymnasium as gym\n",
    "from stable_baselines3 import DQN\n",
    "from stable_baselines3.common.evaluation import evaluate_policy\n",
    "\n",
    "# Create the CartPole environment\n",
    "env = gym.make('CartPole-v1')\n",
    "\n",
    "# Instantiate the DQN agent\n",
    "model = DQN(\n",
    "    policy=policy,\n",
    "    env=env,\n",
    "    learning_rate=learning_rate,\n",
    "    batch_size=batch_size,\n",
    "    buffer_size=buffer_size,\n",
    "    learning_starts=learning_starts,\n",
    "    gamma=gamma,\n",
    "    target_update_interval=target_update_interval,\n",
    "    train_freq=train_freq,\n",
    "    gradient_steps=gradient_steps,\n",
    "    exploration_fraction=exploration_fraction,\n",
    "    exploration_final_eps=exploration_final_eps,\n",
    "    policy_kwargs=policy_kwargs\n",
    ")\n",
    "\n",
    "print(model.__dict__)\n",
    "\n",
    "# Train the agent\n",
    "# model.learn(total_timesteps=int(5e4))\n",
    "\n",
    "# Evaluate the agent\n",
    "mean_reward, std_reward = evaluate_policy(model, env, n_eval_episodes=10)\n",
    "\n",
    "print(f\"Mean reward: {mean_reward:.2f} +/- {std_reward:.2f}\")\n"
   ]
  },
  {
   "cell_type": "code",
   "execution_count": 11,
   "outputs": [
    {
     "name": "stdout",
     "output_type": "stream",
     "text": [
      "Mean reward: 176.20 +/- 11.10\n"
     ]
    }
   ],
   "source": [
    "from callbacks.dummycallback import DummyCallback\n",
    "from callbacks.rewardcallback import RewardCallback\n",
    "from callbacks.sbcallbackadapter import StableBaselinesCallbackAdapter\n",
    "from stable_baselines3.common.callbacks import StopTrainingOnMaxEpisodes\n",
    "import gymnasium as gym\n",
    "from stable_baselines3 import DQN\n",
    "from stable_baselines3.common.evaluation import evaluate_policy\n",
    "\n",
    "# Create the CartPole environment\n",
    "env = gym.make('CartPole-v1')\n",
    "\n",
    "# Instantiate the DQN agent\n",
    "model = DQN(\n",
    "    policy=policy,\n",
    "    env=env,\n",
    "    learning_rate=learning_rate,\n",
    "    batch_size=batch_size,\n",
    "    buffer_size=buffer_size,\n",
    "    learning_starts=learning_starts,\n",
    "    gamma=gamma,\n",
    "    target_update_interval=target_update_interval,\n",
    "    train_freq=train_freq,\n",
    "    gradient_steps=gradient_steps,\n",
    "    exploration_fraction=exploration_fraction,\n",
    "    exploration_final_eps=exploration_final_eps,\n",
    "    policy_kwargs=policy_kwargs\n",
    ")\n",
    "\n",
    "# Train the agent\n",
    "# max_episodes set such that the learning does not stop early.\n",
    "model.learn(total_timesteps=int(216942042) , callback=[StopTrainingOnMaxEpisodes(max_episodes=int(100)),\n",
    "                                                       StableBaselinesCallbackAdapter(DummyCallback())])\n",
    "\n",
    "# Evaluate the agent\n",
    "mean_reward, std_reward = evaluate_policy(model, env, n_eval_episodes=10)\n",
    "\n",
    "print(f\"Mean reward: {mean_reward:.2f} +/- {std_reward:.2f}\")"
   ],
   "metadata": {
    "collapsed": false,
    "ExecuteTime": {
     "end_time": "2024-05-22T10:16:17.505402Z",
     "start_time": "2024-05-22T10:16:16.009442Z"
    }
   },
   "id": "bd3da1c2de5d2ba4"
  }
 ],
 "metadata": {
  "kernelspec": {
   "display_name": "Python 3",
   "language": "python",
   "name": "python3"
  },
  "language_info": {
   "codemirror_mode": {
    "name": "ipython",
    "version": 2
   },
   "file_extension": ".py",
   "mimetype": "text/x-python",
   "name": "python",
   "nbconvert_exporter": "python",
   "pygments_lexer": "ipython2",
   "version": "2.7.6"
  }
 },
 "nbformat": 4,
 "nbformat_minor": 5
}
