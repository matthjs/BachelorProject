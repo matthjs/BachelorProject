{
 "cells": [
  {
   "cell_type": "markdown",
   "source": [
    "# HUH?"
   ],
   "metadata": {
    "collapsed": false
   },
   "id": "7cc92bf70f11890c"
  },
  {
   "cell_type": "code",
   "execution_count": 1,
   "id": "initial_id",
   "metadata": {
    "collapsed": true,
    "ExecuteTime": {
     "end_time": "2024-05-26T18:07:25.516991100Z",
     "start_time": "2024-05-26T18:07:22.779443200Z"
    }
   },
   "outputs": [],
   "source": [
    "from botorch.models.transforms.input import Normalize\n",
    "import torch"
   ]
  },
  {
   "cell_type": "code",
   "execution_count": 90,
   "outputs": [
    {
     "name": "stdout",
     "output_type": "stream",
     "text": [
      "[0, 1, 2, 3]\n",
      "Original tensor: tensor([[9., 2., 3., 4., 5.]])\n",
      "Normalized tensor: tensor([[9., 2., 3., 4., 5.]])\n"
     ]
    }
   ],
   "source": [
    "import torch\n",
    "from botorch.models.transforms.input import Normalize\n",
    "\n",
    "# Example tensor\n",
    "tensor = torch.tensor([[9.0, 2.0, 3.0, 4.0, 5.0]])\n",
    "\n",
    "# Dimension of the tensor\n",
    "n = tensor.shape[-1]\n",
    "\n",
    "# Define the indices for the first n-1 elements\n",
    "indices = list(range(n-1))\n",
    "\n",
    "print(indices)\n",
    "\n",
    "# Define the Normalize transform with the specified indices\n",
    "normalize = Normalize(d=n, indices=indices)\n",
    "normalize.eval()\n",
    "\n",
    "# Apply the Normalize transform\n",
    "normalized_tensor = normalize(tensor)\n",
    "\n",
    "print(\"Original tensor:\", tensor)\n",
    "print(\"Normalized tensor:\", normalized_tensor)\n"
   ],
   "metadata": {
    "collapsed": false,
    "ExecuteTime": {
     "end_time": "2024-05-26T18:28:21.902049200Z",
     "start_time": "2024-05-26T18:28:21.856776700Z"
    }
   },
   "id": "18ac22aff4761498"
  },
  {
   "cell_type": "code",
   "execution_count": 83,
   "outputs": [
    {
     "name": "stdout",
     "output_type": "stream",
     "text": [
      "tensor([[3., 2.],\n",
      "        [3., 6.]])\n",
      "torch.Size([2, 2])\n"
     ]
    },
    {
     "data": {
      "text/plain": "tensor([[3., 0.],\n        [3., 1.]])"
     },
     "execution_count": 83,
     "metadata": {},
     "output_type": "execute_result"
    }
   ],
   "source": [
    "tensor = torch.tensor([[3., 2.], [3., 6.]])\n",
    "print(tensor)\n",
    "print(tensor.shape)\n",
    "t = Normalize(d=2)\n",
    "t(tensor)"
   ],
   "metadata": {
    "collapsed": false,
    "ExecuteTime": {
     "end_time": "2024-05-26T18:24:58.325397400Z",
     "start_time": "2024-05-26T18:24:58.269565300Z"
    }
   },
   "id": "19d1ac6370215e0a"
  }
 ],
 "metadata": {
  "kernelspec": {
   "display_name": "Python 3",
   "language": "python",
   "name": "python3"
  },
  "language_info": {
   "codemirror_mode": {
    "name": "ipython",
    "version": 2
   },
   "file_extension": ".py",
   "mimetype": "text/x-python",
   "name": "python",
   "nbconvert_exporter": "python",
   "pygments_lexer": "ipython2",
   "version": "2.7.6"
  }
 },
 "nbformat": 4,
 "nbformat_minor": 5
}
