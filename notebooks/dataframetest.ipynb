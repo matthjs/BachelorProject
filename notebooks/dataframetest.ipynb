{
 "cells": [
  {
   "cell_type": "code",
   "execution_count": 3,
   "id": "initial_id",
   "metadata": {
    "collapsed": true,
    "ExecuteTime": {
     "end_time": "2024-05-15T14:32:30.594951500Z",
     "start_time": "2024-05-15T14:32:30.533423100Z"
    }
   },
   "outputs": [
    {
     "data": {
      "text/plain": "     A    B\n0  NaN  NaN",
      "text/html": "<div>\n<style scoped>\n    .dataframe tbody tr th:only-of-type {\n        vertical-align: middle;\n    }\n\n    .dataframe tbody tr th {\n        vertical-align: top;\n    }\n\n    .dataframe thead th {\n        text-align: right;\n    }\n</style>\n<table border=\"1\" class=\"dataframe\">\n  <thead>\n    <tr style=\"text-align: right;\">\n      <th></th>\n      <th>A</th>\n      <th>B</th>\n    </tr>\n  </thead>\n  <tbody>\n    <tr>\n      <th>0</th>\n      <td>NaN</td>\n      <td>NaN</td>\n    </tr>\n  </tbody>\n</table>\n</div>"
     },
     "execution_count": 3,
     "metadata": {},
     "output_type": "execute_result"
    }
   ],
   "source": [
    "import pandas as pd\n",
    "\n",
    "# Create an empty DataFrame with column names\n",
    "df = pd.DataFrame(columns=['A', 'B'])\n",
    "\n",
    "# Create an empty row with the same column names\n",
    "empty_row = pd.Series(dtype='object', index=df.columns)\n",
    "\n",
    "# Set the empty row to the DataFrame\n",
    "df.loc[len(df)] = empty_row\n",
    "\n",
    "df"
   ]
  },
  {
   "cell_type": "code",
   "execution_count": 15,
   "outputs": [
    {
     "name": "stdout",
     "output_type": "stream",
     "text": [
      "     A    B  C\n",
      "0  NaN  NaN  1\n"
     ]
    }
   ],
   "source": [
    "# Dynamically add a new column and assign values to it\n",
    "new_column_name = 'C'\n",
    "new_column_values = 1  # Example values\n",
    "\n",
    "df[new_column_name] = new_column_values\n",
    "\n",
    "print(df)"
   ],
   "metadata": {
    "collapsed": false,
    "ExecuteTime": {
     "end_time": "2024-05-15T14:39:40.493453Z",
     "start_time": "2024-05-15T14:39:40.444529600Z"
    }
   },
   "id": "fa23cd4a9a3c6c05"
  },
  {
   "cell_type": "code",
   "execution_count": 30,
   "outputs": [
    {
     "name": "stdout",
     "output_type": "stream",
     "text": [
      "  type   A   B\n",
      "0  dog  10  20\n"
     ]
    }
   ],
   "source": [
    "import pandas as pd\n",
    "\n",
    "\"\"\"\n",
    "# Create an empty DataFrame with column names\n",
    "df = pd.DataFrame(columns=['A', 'B', 'C'])\n",
    "\n",
    "# Define values for the new row\n",
    "new_row_values = {'type': 'cat', 'A': 10, 'B': 20}  # Example values\n",
    "\n",
    "# Convert the new row values into a DataFrame\n",
    "new_row_df = pd.DataFrame([new_row_values])\n",
    "\n",
    "# Concatenate the new row DataFrame with the original DataFrame\n",
    "df = pd.concat([df, new_row_df], ignore_index=True)\n",
    "\n",
    "# Define values for the new row\n",
    "new_row_values = {'type': 'dog', 'A': 10, 'B': 20}  # Example values\n",
    "\n",
    "# Convert the new row values into a DataFrame\n",
    "new_row_df = pd.DataFrame([new_row_values])\n",
    "\n",
    "# Concatenate the new row DataFrame with the original DataFrame\n",
    "df = pd.concat([df, new_row_df], ignore_index=True)\n",
    "\"\"\"\n",
    "\n",
    "df = pd.DataFrame()\n",
    "# Define values for the new row\n",
    "new_row_values = {'type': 'dog', 'A': 10, 'B': 20}  # Example values\n",
    "\n",
    "# Convert the new row values into a DataFrame\n",
    "new_row_df = pd.DataFrame([new_row_values])\n",
    "\n",
    "df = pd.concat([df, new_row_df], ignore_index=True)\n",
    "\n",
    "print(df)"
   ],
   "metadata": {
    "collapsed": false,
    "ExecuteTime": {
     "end_time": "2024-05-15T14:56:55.045456800Z",
     "start_time": "2024-05-15T14:56:55.017063500Z"
    }
   },
   "id": "fffd025cd76cca8b"
  },
  {
   "cell_type": "code",
   "execution_count": 31,
   "outputs": [
    {
     "data": {
      "text/plain": "Empty DataFrame\nColumns: [type, A, B]\nIndex: []",
      "text/html": "<div>\n<style scoped>\n    .dataframe tbody tr th:only-of-type {\n        vertical-align: middle;\n    }\n\n    .dataframe tbody tr th {\n        vertical-align: top;\n    }\n\n    .dataframe thead th {\n        text-align: right;\n    }\n</style>\n<table border=\"1\" class=\"dataframe\">\n  <thead>\n    <tr style=\"text-align: right;\">\n      <th></th>\n      <th>type</th>\n      <th>A</th>\n      <th>B</th>\n    </tr>\n  </thead>\n  <tbody>\n  </tbody>\n</table>\n</div>"
     },
     "execution_count": 31,
     "metadata": {},
     "output_type": "execute_result"
    }
   ],
   "source": [
    "df.loc[df['type'] == 'cat']"
   ],
   "metadata": {
    "collapsed": false,
    "ExecuteTime": {
     "end_time": "2024-05-15T14:56:57.089448400Z",
     "start_time": "2024-05-15T14:56:57.061582800Z"
    }
   },
   "id": "27ba3780bcae8094"
  },
  {
   "cell_type": "markdown",
   "source": [],
   "metadata": {
    "collapsed": false
   },
   "id": "513752e36fdc4b8d"
  },
  {
   "cell_type": "code",
   "execution_count": 32,
   "outputs": [
    {
     "name": "stdout",
     "output_type": "stream",
     "text": [
      "  type   A   B\n",
      "0  dog  10  20\n"
     ]
    }
   ],
   "source": [
    "# Modify only the 'A' column value in the row where 'type' == 'cat'\n",
    "df.loc[df['type'] == 'cat', 'A'] = 100\n",
    "\n",
    "print(df)"
   ],
   "metadata": {
    "collapsed": false,
    "ExecuteTime": {
     "end_time": "2024-05-15T14:56:58.937356300Z",
     "start_time": "2024-05-15T14:56:58.937356300Z"
    }
   },
   "id": "a561df7108a8ba49"
  },
  {
   "cell_type": "code",
   "execution_count": 33,
   "outputs": [
    {
     "name": "stdout",
     "output_type": "stream",
     "text": [
      "  type   A   B    D\n",
      "0  dog  10  20  NaN\n"
     ]
    }
   ],
   "source": [
    "# Define the new column name and its value\n",
    "new_column_name = 'D'\n",
    "new_column_value = 'new_value'  # Example new value for the new column\n",
    "\n",
    "# Add a new column to the row where 'type' == 'cat' and assign the new value\n",
    "df.loc[df['type'] == 'cat', new_column_name] = new_column_value\n",
    "\n",
    "print(df)"
   ],
   "metadata": {
    "collapsed": false,
    "ExecuteTime": {
     "end_time": "2024-05-15T14:57:00.698225Z",
     "start_time": "2024-05-15T14:57:00.649444500Z"
    }
   },
   "id": "aa0acbf8b78f3f4e"
  }
 ],
 "metadata": {
  "kernelspec": {
   "display_name": "Python 3",
   "language": "python",
   "name": "python3"
  },
  "language_info": {
   "codemirror_mode": {
    "name": "ipython",
    "version": 2
   },
   "file_extension": ".py",
   "mimetype": "text/x-python",
   "name": "python",
   "nbconvert_exporter": "python",
   "pygments_lexer": "ipython2",
   "version": "2.7.6"
  }
 },
 "nbformat": 4,
 "nbformat_minor": 5
}
