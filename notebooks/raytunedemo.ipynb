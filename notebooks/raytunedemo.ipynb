{
 "cells": [
  {
   "cell_type": "markdown",
   "source": [
    "# Ray Tune - a hyperparameter tuning library"
   ],
   "metadata": {
    "collapsed": false
   },
   "id": "17c49116fab52978"
  },
  {
   "cell_type": "markdown",
   "source": [
    "Supports GPUs"
   ],
   "metadata": {
    "collapsed": false
   },
   "id": "a4bb96db62168c5a"
  },
  {
   "cell_type": "markdown",
   "source": [
    "Simple example, minimize $f(x) = a^2 + b$"
   ],
   "metadata": {
    "collapsed": false
   },
   "id": "690a28e7f40351e1"
  },
  {
   "cell_type": "code",
   "execution_count": 1,
   "outputs": [
    {
     "data": {
      "text/plain": "<IPython.core.display.HTML object>",
      "text/html": ""
     },
     "metadata": {},
     "output_type": "display_data"
    },
    {
     "name": "stderr",
     "output_type": "stream",
     "text": [
      "\u001B[33m(raylet)\u001B[0m bash: warning: setlocale: LC_ALL: cannot change locale (en_US.UTF-8)\n",
      "2024-05-10 22:15:07,247\tWARNING experiment_state.py:205 -- Experiment state snapshotting has been triggered multiple times in the last 5.0 seconds. A snapshot is forced if `CheckpointConfig(num_to_keep)` is set, and a trial has checkpointed >= `num_to_keep` times since the last snapshot.\n",
      "You may want to consider increasing the `CheckpointConfig(num_to_keep)` or decreasing the frequency of saving checkpoints.\n",
      "You can suppress this error by setting the environment variable TUNE_WARN_EXCESSIVE_EXPERIMENT_CHECKPOINT_SYNC_THRESHOLD_S to a smaller value than the current threshold (5.0).\n",
      "2024-05-10 22:15:07,252\tINFO tune.py:1007 -- Wrote the latest version of all result files and experiment state to '/home/matthijs/ray_results/objective_2024-05-10_22-15-01' in 0.0086s.\n",
      "2024-05-10 22:15:07,259\tINFO tune.py:1039 -- Total run time: 2.82 seconds (1.65 seconds for the tuning loop).\n"
     ]
    },
    {
     "name": "stdout",
     "output_type": "stream",
     "text": [
      "{'a': 0.001, 'b': 2}\n"
     ]
    }
   ],
   "source": [
    "from ray import train, tune\n",
    "\n",
    "\n",
    "def objective(config):  # ①\n",
    "    score = config[\"a\"] ** 2 + config[\"b\"]\n",
    "    return {\"score\": score}\n",
    "\n",
    "\n",
    "search_space = {  # ②\n",
    "    \"a\": tune.grid_search([0.001, 0.01, 0.1, 1.0]),\n",
    "    \"b\": tune.choice([1, 2, 3]),\n",
    "}\n",
    "\n",
    "tuner = tune.Tuner(objective, param_space=search_space)  # ③\n",
    "\n",
    "results = tuner.fit()\n",
    "print(results.get_best_result(metric=\"score\", mode=\"min\").config)"
   ],
   "metadata": {
    "collapsed": false
   },
   "id": "9fb0eedd9cef04f"
  },
  {
   "cell_type": "markdown",
   "source": [],
   "metadata": {
    "collapsed": false
   },
   "id": "82d8470eb3a4e183"
  }
 ],
 "metadata": {
  "kernelspec": {
   "display_name": "Python 3",
   "language": "python",
   "name": "python3"
  },
  "language_info": {
   "codemirror_mode": {
    "name": "ipython",
    "version": 2
   },
   "file_extension": ".py",
   "mimetype": "text/x-python",
   "name": "python",
   "nbconvert_exporter": "python",
   "pygments_lexer": "ipython2",
   "version": "2.7.6"
  }
 },
 "nbformat": 4,
 "nbformat_minor": 5
}
