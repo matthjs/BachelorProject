{
 "cells": [
  {
   "cell_type": "code",
   "execution_count": 2,
   "id": "initial_id",
   "metadata": {
    "collapsed": true,
    "ExecuteTime": {
     "end_time": "2024-06-12T20:26:47.802210Z",
     "start_time": "2024-06-12T20:26:47.513527Z"
    }
   },
   "outputs": [],
   "source": [
    "import os\n",
    "from typing import Optional\n",
    "\n",
    "import gpytorch\n",
    "import torch\n",
    "from botorch.models.gpytorch import GPyTorchModel\n",
    "from gpytorch import ExactMarginalLogLikelihood\n",
    "from gpytorch.mlls import VariationalELBO, DeepApproximateMLL\n",
    "from loguru import logger\n",
    "from torch.utils.data import TensorDataset, DataLoader, Sampler\n",
    "\n",
    "from util.save import load_model, save_model\n"
   ]
  },
  {
   "cell_type": "code",
   "outputs": [],
   "source": [
    "from torch.utils.data import Dataset\n",
    "\n",
    "\n",
    "class ReverseSampler(Sampler):\n",
    "    def __init__(self, data_source):\n",
    "        super().__init__(data_source)\n",
    "        self.data_source = data_source\n",
    "\n",
    "    def __iter__(self):\n",
    "        # Return an iterator that yields indices in reverse order\n",
    "        return iter(range(len(self.data_source) - 1, -1, -1))\n",
    "\n",
    "    def __len__(self):\n",
    "        # Return the number of samples in the dataset\n",
    "        return len(self.data_source)\n",
    "\n",
    "# Define a simple dataset for demonstration\n",
    "class SimpleDataset(Dataset):\n",
    "    def __init__(self, data):\n",
    "        self.data = data\n",
    "\n",
    "    def __len__(self):\n",
    "        return len(self.data)\n",
    "\n",
    "    def __getitem__(self, index):\n",
    "        return self.data[index]\n"
   ],
   "metadata": {
    "collapsed": false,
    "ExecuteTime": {
     "end_time": "2024-06-12T20:27:01.896349Z",
     "start_time": "2024-06-12T20:27:01.893367Z"
    }
   },
   "id": "754eec02de1d9a10",
   "execution_count": 4
  },
  {
   "cell_type": "code",
   "outputs": [
    {
     "name": "stdout",
     "output_type": "stream",
     "text": [
      "['sample4', 'sample3']\n",
      "['sample2', 'sample1']\n"
     ]
    },
    {
     "name": "stderr",
     "output_type": "stream",
     "text": [
      "/home/matthijs/bsc/BachelorProject/.venv/lib/python3.10/site-packages/torch/utils/data/sampler.py:64: UserWarning: `data_source` argument is not used and will be removed in 2.2.0.You may still have custom implementation that utilizes it.\n",
      "  warnings.warn(\"`data_source` argument is not used and will be removed in 2.2.0.\"\n"
     ]
    }
   ],
   "source": [
    "# Create a dataset with some example data\n",
    "data = ['sample1', 'sample2', 'sample3', 'sample4']\n",
    "dataset = SimpleDataset(data)\n",
    "\n",
    "# Use the ReverseSampler with a DataLoader\n",
    "reverse_sampler = ReverseSampler(dataset)\n",
    "reverse_loader = DataLoader(dataset, batch_size=2, sampler=reverse_sampler)\n",
    "\n",
    "# Iterate through the reversed DataLoader\n",
    "for batch in reverse_loader:\n",
    "    print(batch)"
   ],
   "metadata": {
    "collapsed": false,
    "ExecuteTime": {
     "end_time": "2024-06-12T20:27:13.045659Z",
     "start_time": "2024-06-12T20:27:13.041753Z"
    }
   },
   "id": "6f815a7b9d243bf1",
   "execution_count": 5
  }
 ],
 "metadata": {
  "kernelspec": {
   "display_name": "Python 3",
   "language": "python",
   "name": "python3"
  },
  "language_info": {
   "codemirror_mode": {
    "name": "ipython",
    "version": 2
   },
   "file_extension": ".py",
   "mimetype": "text/x-python",
   "name": "python",
   "nbconvert_exporter": "python",
   "pygments_lexer": "ipython2",
   "version": "2.7.6"
  }
 },
 "nbformat": 4,
 "nbformat_minor": 5
}
