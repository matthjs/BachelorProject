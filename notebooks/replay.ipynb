{
 "cells": [
  {
   "cell_type": "markdown",
   "metadata": {},
   "source": []
  },
  {
   "cell_type": "code",
   "execution_count": 16,
   "metadata": {},
   "outputs": [
    {
     "data": {
      "text/plain": [
       "(tensor([5, 1], device='cuda:0'),\n",
       " tensor([6, 2], device='cuda:0'),\n",
       " tensor([7, 3], device='cuda:0'),\n",
       " tensor([8, 4], device='cuda:0'))"
      ]
     },
     "execution_count": 16,
     "metadata": {},
     "output_type": "execute_result"
    }
   ],
   "source": [
    "import torch\n",
    "from torchrl.data import ReplayBuffer, LazyTensorStorage\n",
    "\n",
    "buf = ReplayBuffer(storage=LazyTensorStorage(\n",
    "                    max_size=5,\n",
    "                    device='cuda'),\n",
    "                    batch_size=2)        # Sample 2 trajectories each time.\n",
    "\n",
    "trajectory1 = (torch.as_tensor(1), torch.as_tensor(2), torch.as_tensor(3), torch.as_tensor(4))    # S, A, R, S\n",
    "trajectory2 = (torch.as_tensor(5), torch.as_tensor(6), torch.as_tensor(7), torch.as_tensor(8))\n",
    "trajectory3 = (torch.as_tensor(9), torch.as_tensor(10), torch.as_tensor(11), torch.as_tensor(12))\n",
    "\n",
    "buf.add(trajectory1)\n",
    "buf.add(trajectory2)\n",
    "buf.add(trajectory3)\n",
    "\n",
    "buf.sample()     # prints state batch, action batch, reward batch and next state batch.\n"
   ]
  }
 ],
 "metadata": {
  "kernelspec": {
   "display_name": ".venv",
   "language": "python",
   "name": "python3"
  },
  "language_info": {
   "codemirror_mode": {
    "name": "ipython",
    "version": 3
   },
   "file_extension": ".py",
   "mimetype": "text/x-python",
   "name": "python",
   "nbconvert_exporter": "python",
   "pygments_lexer": "ipython3",
   "version": "3.10.12"
  }
 },
 "nbformat": 4,
 "nbformat_minor": 2
}
