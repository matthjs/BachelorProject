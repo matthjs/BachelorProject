{
 "cells": [
  {
   "cell_type": "markdown",
   "source": [
    "# Sparsification test/demo"
   ],
   "metadata": {
    "collapsed": false
   },
   "id": "674e2411b723f20b"
  },
  {
   "cell_type": "code",
   "execution_count": 78,
   "outputs": [
    {
     "name": "stdout",
     "output_type": "stream",
     "text": [
      "kernel matrix shape -> torch.Size([32, 32])\n",
      "kernel vector shape -> torch.Size([1, 32])\n",
      "res -> torch.Size([1, 32])\n",
      "res2 -> torch.Size([1, 1])\n",
      "res final -> torch.Size([1, 1])\n",
      "tensor([[0.0650]], grad_fn=<AddBackward0>)\n",
      "kernel matrix shape -> torch.Size([32, 32])\n",
      "kernel vector shape -> torch.Size([1, 32])\n",
      "res -> torch.Size([1, 32])\n",
      "res2 -> torch.Size([1, 1])\n",
      "res final -> torch.Size([1, 1])\n",
      "tensor([[0.0650]], grad_fn=<AddBackward0>)\n"
     ]
    }
   ],
   "source": [
    "import torch\n",
    "import gpytorch\n",
    "\n",
    "def compute_quadratic_form(z_new, z_data, kernel):\n",
    "    # Evaluate the RBF kernel on the batch of vectors z\n",
    "    K = kernel(z_data, z_data).to_dense()\n",
    "    \n",
    "    print(K.shape)\n",
    "    \n",
    "    # Get the Cholesky decomposition of the kernel matrix\n",
    "    L = torch.cholesky(K)\n",
    "    \n",
    "    # Solve L^T x = z for x using forward substitution\n",
    "    x = torch.triangular_solve(z_new.unsqueeze(-1), L, upper=False).solution.squeeze(-1)\n",
    "    \n",
    "    # Compute the dot product of x with itself\n",
    "    result = torch.dot(x.view(-1), x.view(-1))\n",
    "    \n",
    "    return result\n",
    "\n",
    "def compute_quadratic_form_chol(z_new, z_data, kernel):\n",
    "    K = kernel(z_data, z_data).to_dense()   # (batch_size, batch_size)\n",
    "    \n",
    "    print(\"kernel matrix shape ->\", K.shape)\n",
    "    \n",
    "    # Compute the Cholesky decomposition of K\n",
    "    L = torch.linalg.cholesky(K)\n",
    "    \n",
    "    K_inv = torch.inverse(K)\n",
    "    \n",
    "    k_vec = kernel(z_new, z_data).to_dense()    # (vec_batch, batch_size)\n",
    "    \n",
    "    print(\"kernel vector shape ->\", k_vec.shape)\n",
    "    \n",
    "    res = torch.matmul(k_vec, K_inv)\n",
    "    \n",
    "    print(\"res ->\", res.shape)\n",
    "    \n",
    "    res2 = torch.matmul(res, k_vec.t())\n",
    "    \n",
    "    print(\"res2 ->\", res2.shape)\n",
    "    \n",
    "    res_final = (kernel(z_new, z_new) - res2).to_dense()\n",
    "    \n",
    "    print(\"res final ->\", res_final.shape)\n",
    "    \n",
    "    return res_final\n",
    "\n",
    "def compute_quadratic_form2(z_new, z_data, kernel):\n",
    "    K = kernel(z_data, z_data).to_dense()   # (batch_size, batch_size)\n",
    "    \n",
    "    print(\"kernel matrix shape ->\", K.shape)\n",
    "    \n",
    "    K_inv = torch.inverse(K)\n",
    "    \n",
    "    k_vec = kernel(z_new, z_data).to_dense()    # (vec_batch, batch_size)\n",
    "    \n",
    "    print(\"kernel vector shape ->\", k_vec.shape)\n",
    "    \n",
    "    res = torch.matmul(k_vec, K_inv)\n",
    "    \n",
    "    print(\"res ->\", res.shape)\n",
    "    \n",
    "    res2 = torch.matmul(res, k_vec.t())\n",
    "    \n",
    "    print(\"res2 ->\", res2.shape)\n",
    "    \n",
    "    res_final = (kernel(z_new, z_new) - res2).to_dense()\n",
    "    \n",
    "    print(\"res final ->\", res_final.shape)\n",
    "    \n",
    "    return res_final\n",
    "\n",
    "# More numerically stable: https://pytorch.org/docs/stable/generated/torch.linalg.inv.html#torch.linalg.inv\n",
    "def compute_quadratic_form3(z_new, z_data, kernel):\n",
    "    K = kernel(z_data, z_data).to_dense()   # (batch_size, batch_size)\n",
    "    \n",
    "    print(\"kernel matrix shape ->\", K.shape)\n",
    "    \n",
    "    k_vec = kernel(z_new, z_data).to_dense()    # (vec_batch, batch_size)\n",
    "    \n",
    "    print(\"kernel vector shape ->\", k_vec.shape)\n",
    "    \n",
    "    res = torch.linalg.solve(K, k_vec.squeeze(0)).unsqueeze(0)\n",
    "    \n",
    "    print(\"res ->\", res.shape)\n",
    "    \n",
    "    res2 = torch.matmul(res, k_vec.t())\n",
    "    \n",
    "    print(\"res2 ->\", res2.shape)\n",
    "    \n",
    "    res_final = (kernel(z_new, z_new) - res2).to_dense()\n",
    "    \n",
    "    print(\"res final ->\", res_final.shape)\n",
    "    \n",
    "    return res_final\n",
    "\n",
    "\n",
    "\n",
    "# Example usage\n",
    "z_new = torch.rand(1, 5)         # 16 5 dimensional  batch of vectors\n",
    "z_data = torch.rand(32, 5)   # 32 5 dimensional tensors in storage.\n",
    "# Create an RBF kernel\n",
    "rbf_kernel = gpytorch.kernels.RBFKernel()\n",
    "\n",
    "result = compute_quadratic_form2(z_new, z_data, rbf_kernel)\n",
    "print(result)\n",
    "result2 = compute_quadratic_form3(z_new, z_data, rbf_kernel)\n",
    "print(result2)"
   ],
   "metadata": {
    "collapsed": false,
    "ExecuteTime": {
     "end_time": "2024-05-10T19:00:52.444989Z",
     "start_time": "2024-05-10T19:00:52.392399500Z"
    }
   },
   "id": "d978b9c86f3df052"
  },
  {
   "cell_type": "code",
   "execution_count": 77,
   "outputs": [
    {
     "name": "stdout",
     "output_type": "stream",
     "text": [
      "kernel matrix shape -> torch.Size([32, 32])\n",
      "kernel vector shape -> torch.Size([1, 32])\n",
      "res -> torch.Size([1, 32])\n",
      "res2 -> torch.Size([1, 1])\n",
      "res final -> torch.Size([1, 1])\n",
      "tensor([[0.0655]], grad_fn=<AddBackward0>)\n",
      "kernel matrix shape -> torch.Size([32, 32])\n",
      "kernel vector shape -> torch.Size([1, 32])\n"
     ]
    },
    {
     "ename": "RuntimeError",
     "evalue": "linalg.solve: Incompatible shapes of A and B for the equation AX = B (32x32 and 1x32)",
     "output_type": "error",
     "traceback": [
      "\u001B[0;31m---------------------------------------------------------------------------\u001B[0m",
      "\u001B[0;31mRuntimeError\u001B[0m                              Traceback (most recent call last)",
      "Cell \u001B[0;32mIn[77], line 61\u001B[0m\n\u001B[1;32m     59\u001B[0m result \u001B[38;5;241m=\u001B[39m compute_quadratic_form2(z_new, z_data, rbf_kernel)\n\u001B[1;32m     60\u001B[0m \u001B[38;5;28mprint\u001B[39m(result)\n\u001B[0;32m---> 61\u001B[0m result2 \u001B[38;5;241m=\u001B[39m \u001B[43mcompute_quadratic_form3\u001B[49m\u001B[43m(\u001B[49m\u001B[43mz_new\u001B[49m\u001B[43m,\u001B[49m\u001B[43m \u001B[49m\u001B[43mz_data\u001B[49m\u001B[43m,\u001B[49m\u001B[43m \u001B[49m\u001B[43mrbf_kernel\u001B[49m\u001B[43m)\u001B[49m\n\u001B[1;32m     62\u001B[0m \u001B[38;5;28mprint\u001B[39m(result2)\n",
      "Cell \u001B[0;32mIn[77], line 36\u001B[0m, in \u001B[0;36mcompute_quadratic_form3\u001B[0;34m(z_new, z_data, kernel)\u001B[0m\n\u001B[1;32m     32\u001B[0m k_vec \u001B[38;5;241m=\u001B[39m kernel(z_new, z_data)\u001B[38;5;241m.\u001B[39mto_dense()    \u001B[38;5;66;03m# (vec_batch, batch_size)\u001B[39;00m\n\u001B[1;32m     34\u001B[0m \u001B[38;5;28mprint\u001B[39m(\u001B[38;5;124m\"\u001B[39m\u001B[38;5;124mkernel vector shape ->\u001B[39m\u001B[38;5;124m\"\u001B[39m, k_vec\u001B[38;5;241m.\u001B[39mshape)\n\u001B[0;32m---> 36\u001B[0m res \u001B[38;5;241m=\u001B[39m \u001B[43mtorch\u001B[49m\u001B[38;5;241;43m.\u001B[39;49m\u001B[43mlinalg\u001B[49m\u001B[38;5;241;43m.\u001B[39;49m\u001B[43msolve\u001B[49m\u001B[43m(\u001B[49m\u001B[43mK\u001B[49m\u001B[43m,\u001B[49m\u001B[43m \u001B[49m\u001B[43mk_vec\u001B[49m\u001B[43m)\u001B[49m\n\u001B[1;32m     38\u001B[0m \u001B[38;5;28mprint\u001B[39m(\u001B[38;5;124m\"\u001B[39m\u001B[38;5;124mres ->\u001B[39m\u001B[38;5;124m\"\u001B[39m, res\u001B[38;5;241m.\u001B[39mshape)\n\u001B[1;32m     40\u001B[0m res2 \u001B[38;5;241m=\u001B[39m torch\u001B[38;5;241m.\u001B[39mmatmul(res, k_vec\u001B[38;5;241m.\u001B[39mt())\n",
      "\u001B[0;31mRuntimeError\u001B[0m: linalg.solve: Incompatible shapes of A and B for the equation AX = B (32x32 and 1x32)"
     ]
    }
   ],
   "source": [],
   "metadata": {
    "collapsed": false,
    "ExecuteTime": {
     "end_time": "2024-05-10T19:00:36.408544100Z",
     "start_time": "2024-05-10T19:00:36.368514900Z"
    }
   },
   "id": "e168f537299e868"
  }
 ],
 "metadata": {
  "kernelspec": {
   "display_name": "Python 3",
   "language": "python",
   "name": "python3"
  },
  "language_info": {
   "codemirror_mode": {
    "name": "ipython",
    "version": 2
   },
   "file_extension": ".py",
   "mimetype": "text/x-python",
   "name": "python",
   "nbconvert_exporter": "python",
   "pygments_lexer": "ipython2",
   "version": "2.7.6"
  }
 },
 "nbformat": 4,
 "nbformat_minor": 5
}
