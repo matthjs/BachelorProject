{
 "cells": [
  {
   "cell_type": "markdown",
   "source": [
    "# BoTorch"
   ],
   "metadata": {
    "collapsed": false
   },
   "id": "3c9ce0f97c6248c9"
  },
  {
   "cell_type": "markdown",
   "source": [
    "BoTorch builds on top of GPytorch and provides additional functionality for Bayesian optimization."
   ],
   "metadata": {
    "collapsed": false
   },
   "id": "bd141fc776c0184e"
  },
  {
   "cell_type": "markdown",
   "source": [
    "Fit GP kernel hyperparameters to data."
   ],
   "metadata": {
    "collapsed": false
   },
   "id": "10141ad66beeac1"
  },
  {
   "cell_type": "code",
   "execution_count": 1,
   "outputs": [
    {
     "data": {
      "text/plain": "ExactMarginalLogLikelihood(\n  (likelihood): GaussianLikelihood(\n    (noise_covar): HomoskedasticNoise(\n      (noise_prior): GammaPrior()\n      (raw_noise_constraint): GreaterThan(1.000E-04)\n    )\n  )\n  (model): SingleTaskGP(\n    (likelihood): GaussianLikelihood(\n      (noise_covar): HomoskedasticNoise(\n        (noise_prior): GammaPrior()\n        (raw_noise_constraint): GreaterThan(1.000E-04)\n      )\n    )\n    (mean_module): ConstantMean()\n    (covar_module): ScaleKernel(\n      (base_kernel): MaternKernel(\n        (lengthscale_prior): GammaPrior()\n        (raw_lengthscale_constraint): Positive()\n      )\n      (outputscale_prior): GammaPrior()\n      (raw_outputscale_constraint): Positive()\n    )\n  )\n)"
     },
     "execution_count": 1,
     "metadata": {},
     "output_type": "execute_result"
    }
   ],
   "source": [
    "import torch\n",
    "from botorch.models import SingleTaskGP\n",
    "from botorch.fit import fit_gpytorch_mll\n",
    "from gpytorch.mlls import ExactMarginalLogLikelihood\n",
    "\n",
    "# Double precision is highly recommended for GPs.\n",
    "# See https://github.com/pytorch/botorch/discussions/1444\n",
    "train_X = torch.rand(10, 2, dtype=torch.double)\n",
    "Y = 1 - (train_X - 0.5).norm(dim=-1, keepdim=True)  # explicit output dimension\n",
    "Y += 0.1 * torch.rand_like(Y)\n",
    "train_Y = (Y - Y.mean()) / Y.std()\n",
    "\n",
    "gp = SingleTaskGP(train_X, train_Y)\n",
    "mll = ExactMarginalLogLikelihood(gp.likelihood, gp)\n",
    "fit_gpytorch_mll(mll)"
   ],
   "metadata": {
    "collapsed": false,
    "ExecuteTime": {
     "end_time": "2024-05-20T19:32:10.486723900Z",
     "start_time": "2024-05-20T19:32:07.545177400Z"
    }
   },
   "id": "4c387aeebc8579db"
  },
  {
   "cell_type": "markdown",
   "source": [
    "Construct an acquisition function:"
   ],
   "metadata": {
    "collapsed": false
   },
   "id": "49c2c918bd0500db"
  },
  {
   "cell_type": "code",
   "execution_count": 2,
   "outputs": [],
   "source": [
    "from botorch.acquisition import UpperConfidenceBound\n",
    "\n",
    "UCB = UpperConfidenceBound(gp, beta=0.1)"
   ],
   "metadata": {
    "collapsed": false,
    "ExecuteTime": {
     "end_time": "2024-05-07T14:22:44.191114Z",
     "start_time": "2024-05-07T14:22:44.189069Z"
    }
   },
   "id": "1d87164e4bbe51c0"
  },
  {
   "cell_type": "code",
   "execution_count": 3,
   "outputs": [
    {
     "name": "stdout",
     "output_type": "stream",
     "text": [
      "tensor([[0.5782, 0.2912]])\n"
     ]
    }
   ],
   "source": [
    "from botorch.optim import optimize_acqf\n",
    "\n",
    "bounds = torch.stack([torch.zeros(2), torch.ones(2)])\n",
    "candidate, acq_value = optimize_acqf(\n",
    "    UCB, bounds=bounds, q=1, num_restarts=5, raw_samples=20,\n",
    ")\n",
    "\n",
    "print(candidate)"
   ],
   "metadata": {
    "collapsed": false,
    "ExecuteTime": {
     "end_time": "2024-05-07T14:22:44.227545Z",
     "start_time": "2024-05-07T14:22:44.192017Z"
    }
   },
   "id": "74408d260aae5d09"
  },
  {
   "cell_type": "code",
   "execution_count": 2,
   "outputs": [
    {
     "name": "stdout",
     "output_type": "stream",
     "text": [
      "torch.Size([10, 2])\n",
      "tensor([[-0.7513],\n",
      "        [-0.4775],\n",
      "        [ 2.0838],\n",
      "        [-0.1898],\n",
      "        [-0.7298],\n",
      "        [ 0.6401],\n",
      "        [ 1.2173],\n",
      "        [-0.5369],\n",
      "        [-0.6024],\n",
      "        [-0.6535]], dtype=torch.float64, grad_fn=<UnsqueezeBackward0>)\n",
      "tensor([[0.0203],\n",
      "        [0.0202],\n",
      "        [0.0201],\n",
      "        [0.0166],\n",
      "        [0.0159],\n",
      "        [0.0198],\n",
      "        [0.0198],\n",
      "        [0.0186],\n",
      "        [0.0140],\n",
      "        [0.0203]], dtype=torch.float64, grad_fn=<UnsqueezeBackward0>)\n",
      "tensor([[-0.7309],\n",
      "        [-0.4573],\n",
      "        [ 2.1039],\n",
      "        [-0.1732],\n",
      "        [-0.7139],\n",
      "        [ 0.6599],\n",
      "        [ 1.2371],\n",
      "        [-0.5182],\n",
      "        [-0.5885],\n",
      "        [-0.6332]], dtype=torch.float64, grad_fn=<AddBackward0>)\n"
     ]
    }
   ],
   "source": [
    "print(train_X.shape)\n",
    "distr = gp.posterior(train_X)\n",
    "print(distr.mean)\n",
    "print(distr.variance)\n",
    "\n",
    "print(distr.mean + distr.variance)\n",
    "\n",
    "\n"
   ],
   "metadata": {
    "collapsed": false,
    "ExecuteTime": {
     "end_time": "2024-05-20T19:34:01.333367200Z",
     "start_time": "2024-05-20T19:34:01.274126100Z"
    }
   },
   "id": "d45f58cd2690e109"
  },
  {
   "cell_type": "code",
   "outputs": [
    {
     "name": "stdout",
     "output_type": "stream",
     "text": [
      "tensor([[0.9573, 0.7599],\n",
      "        [0.3754, 0.9189],\n",
      "        [0.4446, 0.9791],\n",
      "        [0.8614, 0.5956],\n",
      "        [0.5235, 0.2322],\n",
      "        [0.9797, 0.3877],\n",
      "        [0.2849, 0.8359],\n",
      "        [0.7347, 0.8691],\n",
      "        [0.0226, 0.1927],\n",
      "        [0.0600, 0.4838]], dtype=torch.float64)\n",
      "tensor([[-0.6332],\n",
      "        [ 0.0357],\n",
      "        [-0.2415],\n",
      "        [ 0.3599],\n",
      "        [ 1.4153],\n",
      "        [-0.0082],\n",
      "        [ 0.3038],\n",
      "        [ 0.0386],\n",
      "        [-0.8361],\n",
      "        [-0.4343]], dtype=torch.float64, grad_fn=<UnsqueezeBackward0>)\n",
      "tensor([4])\n"
     ]
    }
   ],
   "source": [
    "print(train_X)\n",
    "\n",
    "means = gp.posterior(train_X).mean\n",
    "\n",
    "print(means)\n",
    "\n",
    "print(torch.argmax(means, dim=0))"
   ],
   "metadata": {
    "collapsed": false,
    "ExecuteTime": {
     "end_time": "2024-05-07T14:35:03.215195Z",
     "start_time": "2024-05-07T14:35:03.210505Z"
    }
   },
   "id": "8fad31f6e97f348f",
   "execution_count": 26
  }
 ],
 "metadata": {
  "kernelspec": {
   "display_name": "Python 3",
   "language": "python",
   "name": "python3"
  },
  "language_info": {
   "codemirror_mode": {
    "name": "ipython",
    "version": 2
   },
   "file_extension": ".py",
   "mimetype": "text/x-python",
   "name": "python",
   "nbconvert_exporter": "python",
   "pygments_lexer": "ipython2",
   "version": "2.7.6"
  }
 },
 "nbformat": 4,
 "nbformat_minor": 5
}
