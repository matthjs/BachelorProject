{
 "cells": [
  {
   "cell_type": "markdown",
   "source": [
    "# BoTorch"
   ],
   "metadata": {
    "collapsed": false
   },
   "id": "3c9ce0f97c6248c9"
  },
  {
   "cell_type": "markdown",
   "source": [
    "BoTorch builds on top of GPytorch and provides additional functionality for Bayesian optimization."
   ],
   "metadata": {
    "collapsed": false
   },
   "id": "bd141fc776c0184e"
  },
  {
   "cell_type": "markdown",
   "source": [
    "Fit GP kernel hyperparameters to data."
   ],
   "metadata": {
    "collapsed": false
   },
   "id": "10141ad66beeac1"
  },
  {
   "cell_type": "code",
   "execution_count": 16,
   "outputs": [
    {
     "data": {
      "text/plain": "ExactMarginalLogLikelihood(\n  (likelihood): GaussianLikelihood(\n    (noise_covar): HomoskedasticNoise(\n      (noise_prior): GammaPrior()\n      (raw_noise_constraint): GreaterThan(1.000E-04)\n    )\n  )\n  (model): SingleTaskGP(\n    (likelihood): GaussianLikelihood(\n      (noise_covar): HomoskedasticNoise(\n        (noise_prior): GammaPrior()\n        (raw_noise_constraint): GreaterThan(1.000E-04)\n      )\n    )\n    (mean_module): ConstantMean()\n    (covar_module): ScaleKernel(\n      (base_kernel): MaternKernel(\n        (lengthscale_prior): GammaPrior()\n        (raw_lengthscale_constraint): Positive()\n      )\n      (outputscale_prior): GammaPrior()\n      (raw_outputscale_constraint): Positive()\n    )\n  )\n)"
     },
     "execution_count": 16,
     "metadata": {},
     "output_type": "execute_result"
    }
   ],
   "source": [
    "import torch\n",
    "from botorch.models import SingleTaskGP\n",
    "from botorch.fit import fit_gpytorch_mll\n",
    "from gpytorch.mlls import ExactMarginalLogLikelihood\n",
    "\n",
    "# Double precision is highly recommended for GPs.\n",
    "# See https://github.com/pytorch/botorch/discussions/1444\n",
    "train_X = torch.rand(10, 2, dtype=torch.double)\n",
    "Y = 1 - (train_X - 0.5).norm(dim=-1, keepdim=True)  # explicit output dimension\n",
    "Y += 0.1 * torch.rand_like(Y)\n",
    "train_Y = (Y - Y.mean()) / Y.std()\n",
    "\n",
    "gp = SingleTaskGP(train_X, train_Y)\n",
    "mll = ExactMarginalLogLikelihood(gp.likelihood, gp)\n",
    "fit_gpytorch_mll(mll)"
   ],
   "metadata": {
    "collapsed": false,
    "ExecuteTime": {
     "end_time": "2024-05-04T13:15:23.566119200Z",
     "start_time": "2024-05-04T13:15:23.395126800Z"
    }
   },
   "id": "4c387aeebc8579db"
  },
  {
   "cell_type": "markdown",
   "source": [
    "Construct an acquisition function:"
   ],
   "metadata": {
    "collapsed": false
   },
   "id": "49c2c918bd0500db"
  },
  {
   "cell_type": "code",
   "execution_count": 17,
   "outputs": [],
   "source": [
    "from botorch.acquisition import UpperConfidenceBound\n",
    "\n",
    "UCB = UpperConfidenceBound(gp, beta=0.1)"
   ],
   "metadata": {
    "collapsed": false,
    "ExecuteTime": {
     "end_time": "2024-05-04T13:15:23.575207600Z",
     "start_time": "2024-05-04T13:15:23.565117200Z"
    }
   },
   "id": "1d87164e4bbe51c0"
  },
  {
   "cell_type": "code",
   "execution_count": 18,
   "outputs": [
    {
     "name": "stdout",
     "output_type": "stream",
     "text": [
      "tensor([[0.4788, 0.4305]])\n"
     ]
    }
   ],
   "source": [
    "from botorch.optim import optimize_acqf\n",
    "\n",
    "bounds = torch.stack([torch.zeros(2), torch.ones(2)])\n",
    "candidate, acq_value = optimize_acqf(\n",
    "    UCB, bounds=bounds, q=1, num_restarts=5, raw_samples=20,\n",
    ")\n",
    "\n",
    "print(candidate)"
   ],
   "metadata": {
    "collapsed": false,
    "ExecuteTime": {
     "end_time": "2024-05-04T13:15:23.628200200Z",
     "start_time": "2024-05-04T13:15:23.575207600Z"
    }
   },
   "id": "74408d260aae5d09"
  },
  {
   "cell_type": "code",
   "execution_count": 23,
   "outputs": [
    {
     "name": "stdout",
     "output_type": "stream",
     "text": [
      "torch.Size([10, 2])\n"
     ]
    },
    {
     "data": {
      "text/plain": "torch.Size([10, 1])"
     },
     "execution_count": 23,
     "metadata": {},
     "output_type": "execute_result"
    }
   ],
   "source": [
    "print(train_X.shape)\n",
    "gp.posterior(train_X).mean.shape    # One mean and variance for each input."
   ],
   "metadata": {
    "collapsed": false,
    "ExecuteTime": {
     "end_time": "2024-05-04T13:15:53.842364500Z",
     "start_time": "2024-05-04T13:15:53.792738400Z"
    }
   },
   "id": "d45f58cd2690e109"
  }
 ],
 "metadata": {
  "kernelspec": {
   "display_name": "Python 3",
   "language": "python",
   "name": "python3"
  },
  "language_info": {
   "codemirror_mode": {
    "name": "ipython",
    "version": 2
   },
   "file_extension": ".py",
   "mimetype": "text/x-python",
   "name": "python",
   "nbconvert_exporter": "python",
   "pygments_lexer": "ipython2",
   "version": "2.7.6"
  }
 },
 "nbformat": 4,
 "nbformat_minor": 5
}
