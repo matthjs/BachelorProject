{
 "cells": [
  {
   "cell_type": "code",
   "execution_count": 42,
   "id": "initial_id",
   "metadata": {
    "collapsed": true,
    "ExecuteTime": {
     "end_time": "2024-05-15T10:43:18.742121Z",
     "start_time": "2024-05-15T10:43:18.738696Z"
    }
   },
   "outputs": [
    {
     "name": "stdout",
     "output_type": "stream",
     "text": [
      "tensor([[0.8050]], grad_fn=<AddBackward0>)\n"
     ]
    }
   ],
   "source": [
    "from gpytorch.kernels import RBFKernel\n",
    "from gpytorch.constraints import Interval\n",
    "\n",
    "kernel = RBFKernel(lengthscale_constraint=Interval(0.8, 0.81))\n",
    "\n",
    "print(kernel.lengthscale)"
   ]
  },
  {
   "cell_type": "code",
   "outputs": [
    {
     "name": "stdout",
     "output_type": "stream",
     "text": [
      "tensor(0.8500, grad_fn=<AddBackward0>)\n"
     ]
    }
   ],
   "source": [
    "from gpytorch.constraints import Interval\n",
    "from gpytorch.kernels import RBFKernel, ScaleKernel\n",
    "\n",
    "kernel = ScaleKernel(RBFKernel(), outputscale_constraint=Interval(0.8, 0.9))\n",
    "\n",
    "print(kernel.outputscale)"
   ],
   "metadata": {
    "collapsed": false,
    "ExecuteTime": {
     "end_time": "2024-05-15T10:44:26.983128Z",
     "start_time": "2024-05-15T10:44:26.979293Z"
    }
   },
   "id": "b343a6d65fc675e8",
   "execution_count": 45
  }
 ],
 "metadata": {
  "kernelspec": {
   "display_name": "Python 3",
   "language": "python",
   "name": "python3"
  },
  "language_info": {
   "codemirror_mode": {
    "name": "ipython",
    "version": 2
   },
   "file_extension": ".py",
   "mimetype": "text/x-python",
   "name": "python",
   "nbconvert_exporter": "python",
   "pygments_lexer": "ipython2",
   "version": "2.7.6"
  }
 },
 "nbformat": 4,
 "nbformat_minor": 5
}
