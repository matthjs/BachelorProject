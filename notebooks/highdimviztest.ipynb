{
 "cells": [
  {
   "cell_type": "code",
   "execution_count": 12,
   "id": "initial_id",
   "metadata": {
    "collapsed": true,
    "ExecuteTime": {
     "end_time": "2024-05-20T18:48:18.223216500Z",
     "start_time": "2024-05-20T18:48:18.217233100Z"
    }
   },
   "outputs": [],
   "source": [
    "from botorch.models.gpytorch import GPyTorchModel\n",
    "import numpy as np\n",
    "import matplotlib.pyplot as plt\n",
    "import torch\n",
    "from openTSNE import TSNE\n",
    "from typing import Tuple, Optional\n",
    "\n",
    "def fetch_device():\n",
    "    return torch.device(\"cuda\" if torch.cuda.is_available() else \"cpu\")\n",
    "\n",
    "def plot_gp_contours_with_uncertainty(gp_model, d_values, highlight_point=None, title=''):\n",
    "\n",
    "    # Generate uniform samples in R^4\n",
    "    num_samples = 1000\n",
    "    S = np.random.rand(num_samples, 4)\n",
    "\n",
    "    # Reduce dimensionality of the state space to 2D using t-SNE\n",
    "    tsne = TSNE(n_components=2, random_state=42)\n",
    "    S_reduced = tsne.fit(S)\n",
    "\n",
    "    # Generate grid for plotting\n",
    "    x = np.linspace(np.min(S_reduced[:, 0]), np.max(S_reduced[:, 0]), 100)\n",
    "    y = np.linspace(np.min(S_reduced[:, 1]), np.max(S_reduced[:, 1]), 100)\n",
    "    X, Y = np.meshgrid(x, y)\n",
    "    xy = np.vstack([X.ravel(), Y.ravel()]).T\n",
    "\n",
    "    fig, axes = plt.subplots(2, d_values, figsize=(15, 10))\n",
    "\n",
    "    for d in range(d_values):\n",
    "        d_tensor = torch.tensor([d] * xy.shape[0]).view(-1, 1).to(fetch_device())\n",
    "        xy_tensor = torch.tensor(xy).to(fetch_device())\n",
    "        input_tensor = torch.cat((xy_tensor, d_tensor), dim=1)\n",
    "\n",
    "        with torch.no_grad():\n",
    "            posterior = gp_model.posterior(input_tensor)\n",
    "            gp_mean = posterior.mean.cpu().numpy()\n",
    "            gp_var = posterior.variance.cpu().numpy()\n",
    "\n",
    "        Z_mean = gp_mean.reshape(X.shape)\n",
    "        Z_std = np.sqrt(gp_var).reshape(X.shape)\n",
    "\n",
    "        # Mean contour plot\n",
    "        ax_mean = axes[0, d]\n",
    "        contour_mean = ax_mean.contourf(X, Y, Z_mean, cmap='viridis', alpha=0.8)\n",
    "        ax_mean.contour(X, Y, Z_mean, colors='k', linewidths=0.5)\n",
    "        ax_mean.set_title(f'{title} Mean, a={d}')\n",
    "        fig.colorbar(contour_mean, ax=ax_mean)\n",
    "        ax_mean.set_xlabel('s1')\n",
    "        ax_mean.set_ylabel('s2')\n",
    "\n",
    "        # Standard deviation contour plot\n",
    "        ax_std = axes[1, d]\n",
    "        contour_std = ax_std.contourf(X, Y, Z_std, cmap='viridis', alpha=0.8)\n",
    "        ax_std.contour(X, Y, Z_std, colors='k', linewidths=0.5)\n",
    "        ax_std.set_title(f'{title} Std Dev, a={d}')\n",
    "        fig.colorbar(contour_std, ax=ax_std)\n",
    "        ax_std.set_xlabel('s1')\n",
    "        ax_std.set_ylabel('s2')\n",
    "\n",
    "        # Highlight the specified point if provided\n",
    "        if highlight_point:\n",
    "            ax_mean.scatter(highlight_point[0], highlight_point[1], color='red' if d == highlight_point[2] else 'blue',\n",
    "                            label='Highlight Point')\n",
    "            ax_std.scatter(highlight_point[0], highlight_point[1], color='red' if d == highlight_point[2] else 'blue',\n",
    "                           label='Highlight Point')\n",
    "\n",
    "    plt.show()"
   ]
  },
  {
   "cell_type": "code",
   "execution_count": 13,
   "outputs": [
    {
     "name": "stderr",
     "output_type": "stream",
     "text": [
      "/home/matthijs/bsc/BachelorProject/.venv/lib/python3.10/site-packages/botorch/models/utils/assorted.py:202: InputDataWarning: Input data is not standardized (mean = tensor([-0.0134], dtype=torch.float64), std = tensor([1.0121], dtype=torch.float64)). Please consider scaling the input to zero mean and unit variance.\n",
      "  warnings.warn(msg, InputDataWarning)\n"
     ]
    },
    {
     "data": {
      "text/plain": "ExactMarginalLogLikelihood(\n  (likelihood): GaussianLikelihood(\n    (noise_covar): HomoskedasticNoise(\n      (noise_prior): GammaPrior()\n      (raw_noise_constraint): GreaterThan(1.000E-06)\n    )\n  )\n  (model): MixedSingleTaskGP(\n    (likelihood): GaussianLikelihood(\n      (noise_covar): HomoskedasticNoise(\n        (noise_prior): GammaPrior()\n        (raw_noise_constraint): GreaterThan(1.000E-06)\n      )\n    )\n    (mean_module): ConstantMean()\n    (covar_module): AdditiveKernel(\n      (kernels): ModuleList(\n        (0): ScaleKernel(\n          (base_kernel): AdditiveKernel(\n            (kernels): ModuleList(\n              (0): MaternKernel(\n                (raw_lengthscale_constraint): GreaterThan(1.000E-04)\n              )\n              (1): ScaleKernel(\n                (base_kernel): CategoricalKernel(\n                  (raw_lengthscale_constraint): GreaterThan(1.000E-06)\n                )\n                (raw_outputscale_constraint): Positive()\n              )\n            )\n          )\n          (raw_outputscale_constraint): Positive()\n        )\n        (1): ScaleKernel(\n          (base_kernel): ProductKernel(\n            (kernels): ModuleList(\n              (0): MaternKernel(\n                (raw_lengthscale_constraint): GreaterThan(1.000E-04)\n              )\n              (1): CategoricalKernel(\n                (raw_lengthscale_constraint): GreaterThan(1.000E-06)\n              )\n            )\n          )\n          (raw_outputscale_constraint): Positive()\n        )\n      )\n    )\n  )\n)"
     },
     "execution_count": 13,
     "metadata": {},
     "output_type": "execute_result"
    }
   ],
   "source": [
    "from botorch import fit_gpytorch_mll\n",
    "import numpy as np\n",
    "import torch\n",
    "from botorch.models import MixedSingleTaskGP\n",
    "from gpytorch.mlls import ExactMarginalLogLikelihood\n",
    "\n",
    "# Step 1: Generate dummy data\n",
    "def generate_dummy_data(num_samples=50):\n",
    "    x_continuous = np.random.uniform(0, 1, (num_samples, 4))  # 4-dimensional continuous part\n",
    "    x_discrete = np.random.randint(0, 3, num_samples).reshape(-1, 1)  # Discrete dimension with values in {0, 1, 2}\n",
    "    inputs = np.hstack([x_continuous, x_discrete])\n",
    "    targets = np.sin(2 * np.pi * inputs[:, 0]) + np.cos(2 * np.pi * inputs[:, 1]) + 0.1 * inputs[:, 2] + 0.1 * np.random.randn(num_samples)\n",
    "    return torch.tensor(inputs, dtype=torch.float64), torch.tensor(targets, dtype=torch.float64).unsqueeze(-1)\n",
    "\n",
    "train_x, train_y = generate_dummy_data()\n",
    "\n",
    "# Step 2: Instantiate and train the GP model\n",
    "categorical_features = [4]  # The index of the discrete dimension\n",
    "gp_mixed_model = MixedSingleTaskGP(train_X=train_x, train_Y=train_y, cat_dims=categorical_features).to(fetch_device())\n",
    "mll = ExactMarginalLogLikelihood(gp_mixed_model.likelihood, gp_mixed_model)\n",
    "fit_gpytorch_mll(mll)"
   ],
   "metadata": {
    "collapsed": false,
    "ExecuteTime": {
     "end_time": "2024-05-20T18:48:27.454357100Z",
     "start_time": "2024-05-20T18:48:20.736422700Z"
    }
   },
   "id": "a4f72f29e76d5928"
  },
  {
   "cell_type": "code",
   "execution_count": 14,
   "outputs": [
    {
     "ename": "RuntimeError",
     "evalue": "Sizes of tensors must match except in dimension 0. Expected size 5 but got size 3 for tensor number 1 in the list.",
     "output_type": "error",
     "traceback": [
      "\u001B[0;31m---------------------------------------------------------------------------\u001B[0m",
      "\u001B[0;31mRuntimeError\u001B[0m                              Traceback (most recent call last)",
      "Cell \u001B[0;32mIn[14], line 16\u001B[0m\n\u001B[1;32m     13\u001B[0m highlight_point \u001B[38;5;241m=\u001B[39m torch\u001B[38;5;241m.\u001B[39mtensor([\u001B[38;5;241m0.5\u001B[39m, \u001B[38;5;241m0.5\u001B[39m, \u001B[38;5;241m0\u001B[39m])  \u001B[38;5;66;03m# Example highlight point\u001B[39;00m\n\u001B[1;32m     15\u001B[0m \u001B[38;5;66;03m# Call the plot function\u001B[39;00m\n\u001B[0;32m---> 16\u001B[0m \u001B[43mplot_gp_contours_with_uncertainty\u001B[49m\u001B[43m(\u001B[49m\u001B[43mgp_mixed_model\u001B[49m\u001B[43m,\u001B[49m\u001B[43m \u001B[49m\u001B[43md_values\u001B[49m\u001B[38;5;241;43m=\u001B[39;49m\u001B[38;5;241;43m3\u001B[39;49m\u001B[43m,\u001B[49m\u001B[43m \u001B[49m\u001B[43mhighlight_point\u001B[49m\u001B[38;5;241;43m=\u001B[39;49m\u001B[43mhighlight_point\u001B[49m\u001B[43m,\u001B[49m\u001B[43m \u001B[49m\u001B[43mtitle\u001B[49m\u001B[38;5;241;43m=\u001B[39;49m\u001B[38;5;124;43m'\u001B[39;49m\u001B[38;5;124;43mGP Contours\u001B[39;49m\u001B[38;5;124;43m'\u001B[39;49m\u001B[43m)\u001B[49m\n\u001B[1;32m     18\u001B[0m \u001B[38;5;66;03m# If you don't want to highlight any point, just omit the highlight_point argument:\u001B[39;00m\n\u001B[1;32m     19\u001B[0m \u001B[38;5;66;03m# plot_gp_contours_with_uncertainty(gp_model, d_values=3, title='GP Contours')\u001B[39;00m\n",
      "Cell \u001B[0;32mIn[12], line 35\u001B[0m, in \u001B[0;36mplot_gp_contours_with_uncertainty\u001B[0;34m(gp_model, d_values, highlight_point, title)\u001B[0m\n\u001B[1;32m     32\u001B[0m input_tensor \u001B[38;5;241m=\u001B[39m torch\u001B[38;5;241m.\u001B[39mcat((xy_tensor, d_tensor), dim\u001B[38;5;241m=\u001B[39m\u001B[38;5;241m1\u001B[39m)\n\u001B[1;32m     34\u001B[0m \u001B[38;5;28;01mwith\u001B[39;00m torch\u001B[38;5;241m.\u001B[39mno_grad():\n\u001B[0;32m---> 35\u001B[0m     posterior \u001B[38;5;241m=\u001B[39m \u001B[43mgp_model\u001B[49m\u001B[38;5;241;43m.\u001B[39;49m\u001B[43mposterior\u001B[49m\u001B[43m(\u001B[49m\u001B[43minput_tensor\u001B[49m\u001B[43m)\u001B[49m\n\u001B[1;32m     36\u001B[0m     gp_mean \u001B[38;5;241m=\u001B[39m posterior\u001B[38;5;241m.\u001B[39mmean\u001B[38;5;241m.\u001B[39mcpu()\u001B[38;5;241m.\u001B[39mnumpy()\n\u001B[1;32m     37\u001B[0m     gp_var \u001B[38;5;241m=\u001B[39m posterior\u001B[38;5;241m.\u001B[39mvariance\u001B[38;5;241m.\u001B[39mcpu()\u001B[38;5;241m.\u001B[39mnumpy()\n",
      "File \u001B[0;32m~/bsc/BachelorProject/.venv/lib/python3.10/site-packages/botorch/models/gpytorch.py:395\u001B[0m, in \u001B[0;36mBatchedMultiOutputGPyTorchModel.posterior\u001B[0;34m(self, X, output_indices, observation_noise, posterior_transform, **kwargs)\u001B[0m\n\u001B[1;32m    389\u001B[0m     X, output_dim_idx \u001B[38;5;241m=\u001B[39m add_output_dim(\n\u001B[1;32m    390\u001B[0m         X\u001B[38;5;241m=\u001B[39mX, original_batch_shape\u001B[38;5;241m=\u001B[39m\u001B[38;5;28mself\u001B[39m\u001B[38;5;241m.\u001B[39m_input_batch_shape\n\u001B[1;32m    391\u001B[0m     )\n\u001B[1;32m    392\u001B[0m \u001B[38;5;66;03m# NOTE: BoTorch's GPyTorchModels also inherit from GPyTorch's ExactGP, thus\u001B[39;00m\n\u001B[1;32m    393\u001B[0m \u001B[38;5;66;03m# self(X) calls GPyTorch's ExactGP's __call__, which computes the posterior,\u001B[39;00m\n\u001B[1;32m    394\u001B[0m \u001B[38;5;66;03m# rather than e.g. SingleTaskGP's forward, which computes the prior.\u001B[39;00m\n\u001B[0;32m--> 395\u001B[0m mvn \u001B[38;5;241m=\u001B[39m \u001B[38;5;28;43mself\u001B[39;49m\u001B[43m(\u001B[49m\u001B[43mX\u001B[49m\u001B[43m)\u001B[49m\n\u001B[1;32m    396\u001B[0m \u001B[38;5;28;01mif\u001B[39;00m observation_noise \u001B[38;5;129;01mis\u001B[39;00m \u001B[38;5;129;01mnot\u001B[39;00m \u001B[38;5;28;01mFalse\u001B[39;00m:\n\u001B[1;32m    397\u001B[0m     \u001B[38;5;28;01mif\u001B[39;00m \u001B[38;5;28mself\u001B[39m\u001B[38;5;241m.\u001B[39m_num_outputs \u001B[38;5;241m>\u001B[39m \u001B[38;5;241m1\u001B[39m:\n",
      "File \u001B[0;32m~/bsc/BachelorProject/.venv/lib/python3.10/site-packages/gpytorch/models/exact_gp.py:313\u001B[0m, in \u001B[0;36mExactGP.__call__\u001B[0;34m(self, *args, **kwargs)\u001B[0m\n\u001B[1;32m    311\u001B[0m         train_input \u001B[38;5;241m=\u001B[39m train_input\u001B[38;5;241m.\u001B[39mexpand(\u001B[38;5;241m*\u001B[39mbatch_shape, \u001B[38;5;241m*\u001B[39mtrain_input\u001B[38;5;241m.\u001B[39mshape[\u001B[38;5;241m-\u001B[39m\u001B[38;5;241m2\u001B[39m:])\n\u001B[1;32m    312\u001B[0m         \u001B[38;5;28minput\u001B[39m \u001B[38;5;241m=\u001B[39m \u001B[38;5;28minput\u001B[39m\u001B[38;5;241m.\u001B[39mexpand(\u001B[38;5;241m*\u001B[39mbatch_shape, \u001B[38;5;241m*\u001B[39m\u001B[38;5;28minput\u001B[39m\u001B[38;5;241m.\u001B[39mshape[\u001B[38;5;241m-\u001B[39m\u001B[38;5;241m2\u001B[39m:])\n\u001B[0;32m--> 313\u001B[0m     full_inputs\u001B[38;5;241m.\u001B[39mappend(\u001B[43mtorch\u001B[49m\u001B[38;5;241;43m.\u001B[39;49m\u001B[43mcat\u001B[49m\u001B[43m(\u001B[49m\u001B[43m[\u001B[49m\u001B[43mtrain_input\u001B[49m\u001B[43m,\u001B[49m\u001B[43m \u001B[49m\u001B[38;5;28;43minput\u001B[39;49m\u001B[43m]\u001B[49m\u001B[43m,\u001B[49m\u001B[43m \u001B[49m\u001B[43mdim\u001B[49m\u001B[38;5;241;43m=\u001B[39;49m\u001B[38;5;241;43m-\u001B[39;49m\u001B[38;5;241;43m2\u001B[39;49m\u001B[43m)\u001B[49m)\n\u001B[1;32m    315\u001B[0m \u001B[38;5;66;03m# Get the joint distribution for training/test data\u001B[39;00m\n\u001B[1;32m    316\u001B[0m full_output \u001B[38;5;241m=\u001B[39m \u001B[38;5;28msuper\u001B[39m(ExactGP, \u001B[38;5;28mself\u001B[39m)\u001B[38;5;241m.\u001B[39m\u001B[38;5;21m__call__\u001B[39m(\u001B[38;5;241m*\u001B[39mfull_inputs, \u001B[38;5;241m*\u001B[39m\u001B[38;5;241m*\u001B[39mkwargs)\n",
      "\u001B[0;31mRuntimeError\u001B[0m: Sizes of tensors must match except in dimension 0. Expected size 5 but got size 3 for tensor number 1 in the list."
     ]
    },
    {
     "data": {
      "text/plain": "<Figure size 1500x1000 with 6 Axes>",
      "image/png": "[encoded data removed]"
     },
     "metadata": {},
     "output_type": "display_data"
    }
   ],
   "source": [
    "from botorch.models.gpytorch import GPyTorchModel\n",
    "import numpy as np\n",
    "import matplotlib.pyplot as plt\n",
    "import torch\n",
    "\n",
    "# Assuming you have a trained BoTorch GP model named gp_model\n",
    "\n",
    "# Define a helper function to fetch the device\n",
    "def fetch_device():\n",
    "    return torch.device(\"cuda\" if torch.cuda.is_available() else \"cpu\")\n",
    "\n",
    "# Assuming you want to highlight a specific point (s1, s2, action) on the plot\n",
    "highlight_point = torch.tensor([0.5, 0.5, 0])  # Example highlight point\n",
    "\n",
    "# Call the plot function\n",
    "plot_gp_contours_with_uncertainty(gp_mixed_model, d_values=3, highlight_point=highlight_point, title='GP Contours')\n",
    "\n",
    "# If you don't want to highlight any point, just omit the highlight_point argument:\n",
    "# plot_gp_contours_with_uncertainty(gp_model, d_values=3, title='GP Contours')\n"
   ],
   "metadata": {
    "collapsed": false,
    "ExecuteTime": {
     "end_time": "2024-05-20T18:48:40.832853300Z",
     "start_time": "2024-05-20T18:48:27.458371Z"
    }
   },
   "id": "b05263b9f46b1fc"
  }
 ],
 "metadata": {
  "kernelspec": {
   "display_name": "Python 3",
   "language": "python",
   "name": "python3"
  },
  "language_info": {
   "codemirror_mode": {
    "name": "ipython",
    "version": 2
   },
   "file_extension": ".py",
   "mimetype": "text/x-python",
   "name": "python",
   "nbconvert_exporter": "python",
   "pygments_lexer": "ipython2",
   "version": "2.7.6"
  }
 },
 "nbformat": 4,
 "nbformat_minor": 5
}
