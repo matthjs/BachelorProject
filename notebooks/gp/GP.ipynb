{
 "cells": [
  {
   "cell_type": "markdown",
   "source": [
    "# Gaussian process regression in GPytorch"
   ],
   "metadata": {
    "collapsed": false
   }
  },
  {
   "cell_type": "code",
   "execution_count": 1,
   "metadata": {
    "colab": {
     "base_uri": "https://localhost:8080/"
    },
    "id": "4H-111YuBPeY",
    "outputId": "313a358d-ef04-42c9-eebf-4c06aefaeb2d",
    "ExecuteTime": {
     "end_time": "2024-04-27T17:56:20.835472600Z",
     "start_time": "2024-04-27T17:56:19.238501200Z"
    }
   },
   "outputs": [],
   "source": [
    "# https://docs.gpytorch.ai/en/stable/examples/01_Exact_GPs/Simple_GP_Regression.html\n",
    "import math\n",
    "import torch\n",
    "import gpytorch\n",
    "from matplotlib import pyplot as plt\n",
    "\n",
    "%matplotlib inline"
   ]
  },
  {
   "cell_type": "markdown",
   "metadata": {
    "id": "adH26hylcPLh"
   },
   "source": [
    "The training and test data is sampled from:\n",
    "$$\n",
    "y = \\sin(2\\pi x) + \\epsilon \\quad \\epsilon \\sim \\mathcal{N}(0,0.04)\n",
    "$$"
   ]
  },
  {
   "cell_type": "code",
   "execution_count": 2,
   "metadata": {
    "id": "hOxD2GwAbNDr",
    "ExecuteTime": {
     "end_time": "2024-04-27T17:56:20.851992500Z",
     "start_time": "2024-04-27T17:56:20.835472600Z"
    }
   },
   "outputs": [],
   "source": [
    "# Training data is 100 points in [0,1] inclusive regularly spaced\n",
    "train_x = torch.linspace(0, 1, 100)\n",
    "# True function is sin(2*pi*x) with Gaussian noise\n",
    "train_y = torch.sin(train_x * (2 * math.pi)) + torch.randn(train_x.size()) * math.sqrt(0.04)"
   ]
  },
  {
   "cell_type": "markdown",
   "metadata": {
    "id": "sr0-pcvMdIuH"
   },
   "source": [
    "A Gaussian process is a way to define distributions over functions of the form $f : \\mathcal{X} \\rightarrow \\mathbb{R}$, where $\\mathcal{X}$ is any domain.\n",
    "\n",
    "A Guassian Process (GP) is collection of dependent random variables, one for each $\\mathbf{x} \\in \\mathcal{X}$, such that every finite subset of which has a multivariate Guassian distribution. A $GP(\\mu(\\mathbf{x}), k(\\mathbf{x}, \\mathbf{x}'))$ is specified by its mean function $\\mu(\\mathbf{x}) = \\mathbb{E}[f(\\mathbf{x})]$ and covariance (or kernel) function $k(\\mathbf{x}, \\mathbf{x}') = \\mathbb{E}[f(x) - \\mu(\\mathbf{x})(f(x') - \\mu(\\mathbf{x}')]$. For GPs not conditioned on data, we assume that $\\mu=0$.\n",
    "The random variables here represent the value of $f(\\mathbf{x})$ at $\\mathbf{x}$.\n"
   ]
  },
  {
   "cell_type": "code",
   "execution_count": 3,
   "metadata": {
    "colab": {
     "base_uri": "https://localhost:8080/",
     "height": 214
    },
    "id": "we11pJqMawvk",
    "outputId": "455b2be9-619e-41db-c5c8-8c30e6c5f7fe",
    "ExecuteTime": {
     "end_time": "2024-04-27T17:56:21.077125700Z",
     "start_time": "2024-04-27T17:56:20.842470800Z"
    }
   },
   "outputs": [],
   "source": [
    "# We will use the simplest form of GP model, exact inference\n",
    "class ExactGPModel(gpytorch.models.ExactGP):\n",
    "    def __init__(self, train_x, train_y, likelihood):\n",
    "        super(ExactGPModel, self).__init__(train_x, train_y, likelihood)\n",
    "        self.mean_module = gpytorch.means.ConstantMean()\n",
    "        self.covar_module = gpytorch.kernels.ScaleKernel(gpytorch.kernels.RBFKernel())\n",
    "\n",
    "    def forward(self, x):\n",
    "        mean_x = self.mean_module(x)\n",
    "        covar_x = self.covar_module(x)\n",
    "        return gpytorch.distributions.MultivariateNormal(mean_x, covar_x)\n",
    "\n",
    "# initialize likelihood and model\n",
    "likelihood = gpytorch.likelihoods.GaussianLikelihood()\n",
    "model = ExactGPModel(train_x, train_y, likelihood)"
   ]
  },
  {
   "cell_type": "markdown",
   "metadata": {
    "id": "DxaZegGQoxgk"
   },
   "source": [
    "GP is a bayesian method, we can estimate the hyperparameters $\\theta$ of the kernel by maximizing the marginal likelihood:\n",
    "$\n",
    "\\log p(\\mathbf{y} | \\mathbf{X}, \\theta)\n",
    "$\n",
    "where\n",
    "$$\n",
    "p(\\mathbf{y} | \\mathbf{X}, \\theta) = \\int p(\\mathbf{y} | \\mathbf{f}, \\mathbf{X}) p(\\mathbf{f} | \\mathbf{X}, \\theta) d \\mathbf{f}\n",
    "$$"
   ]
  },
  {
   "cell_type": "code",
   "execution_count": 4,
   "metadata": {
    "colab": {
     "base_uri": "https://localhost:8080/"
    },
    "id": "foH-YXjabi5K",
    "outputId": "8e47d8f9-fc9c-47fc-d1af-8ac07aec7e9f",
    "ExecuteTime": {
     "end_time": "2024-04-27T17:56:23.189174700Z",
     "start_time": "2024-04-27T17:56:21.077125700Z"
    }
   },
   "outputs": [
    {
     "name": "stdout",
     "output_type": "stream",
     "text": [
      "Iter 1/50 - Loss: 0.945   lengthscale: 0.693   noise: 0.693\n",
      "Iter 2/50 - Loss: 0.914   lengthscale: 0.644   noise: 0.644\n",
      "Iter 3/50 - Loss: 0.881   lengthscale: 0.598   noise: 0.598\n",
      "Iter 4/50 - Loss: 0.844   lengthscale: 0.555   noise: 0.554\n",
      "Iter 5/50 - Loss: 0.801   lengthscale: 0.514   noise: 0.513\n",
      "Iter 6/50 - Loss: 0.753   lengthscale: 0.476   noise: 0.474\n",
      "Iter 7/50 - Loss: 0.701   lengthscale: 0.440   noise: 0.437\n",
      "Iter 8/50 - Loss: 0.648   lengthscale: 0.405   noise: 0.402\n",
      "Iter 9/50 - Loss: 0.596   lengthscale: 0.373   noise: 0.369\n",
      "Iter 10/50 - Loss: 0.550   lengthscale: 0.343   noise: 0.339\n",
      "Iter 11/50 - Loss: 0.507   lengthscale: 0.315   noise: 0.310\n",
      "Iter 12/50 - Loss: 0.469   lengthscale: 0.292   noise: 0.284\n",
      "Iter 13/50 - Loss: 0.433   lengthscale: 0.272   noise: 0.259\n",
      "Iter 14/50 - Loss: 0.398   lengthscale: 0.255   noise: 0.236\n",
      "Iter 15/50 - Loss: 0.365   lengthscale: 0.241   noise: 0.215\n",
      "Iter 16/50 - Loss: 0.331   lengthscale: 0.230   noise: 0.196\n",
      "Iter 17/50 - Loss: 0.298   lengthscale: 0.222   noise: 0.178\n",
      "Iter 18/50 - Loss: 0.265   lengthscale: 0.215   noise: 0.162\n",
      "Iter 19/50 - Loss: 0.233   lengthscale: 0.211   noise: 0.147\n",
      "Iter 20/50 - Loss: 0.202   lengthscale: 0.208   noise: 0.134\n",
      "Iter 21/50 - Loss: 0.171   lengthscale: 0.207   noise: 0.122\n",
      "Iter 22/50 - Loss: 0.141   lengthscale: 0.207   noise: 0.110\n",
      "Iter 23/50 - Loss: 0.112   lengthscale: 0.208   noise: 0.100\n",
      "Iter 24/50 - Loss: 0.085   lengthscale: 0.211   noise: 0.091\n",
      "Iter 25/50 - Loss: 0.059   lengthscale: 0.215   noise: 0.083\n",
      "Iter 26/50 - Loss: 0.035   lengthscale: 0.219   noise: 0.076\n",
      "Iter 27/50 - Loss: 0.014   lengthscale: 0.225   noise: 0.069\n",
      "Iter 28/50 - Loss: -0.004   lengthscale: 0.231   noise: 0.063\n",
      "Iter 29/50 - Loss: -0.020   lengthscale: 0.237   noise: 0.058\n",
      "Iter 30/50 - Loss: -0.033   lengthscale: 0.244   noise: 0.053\n",
      "Iter 31/50 - Loss: -0.042   lengthscale: 0.251   noise: 0.049\n",
      "Iter 32/50 - Loss: -0.049   lengthscale: 0.258   noise: 0.046\n",
      "Iter 33/50 - Loss: -0.052   lengthscale: 0.265   noise: 0.042\n",
      "Iter 34/50 - Loss: -0.053   lengthscale: 0.271   noise: 0.040\n",
      "Iter 35/50 - Loss: -0.052   lengthscale: 0.276   noise: 0.037\n",
      "Iter 36/50 - Loss: -0.049   lengthscale: 0.281   noise: 0.035\n",
      "Iter 37/50 - Loss: -0.045   lengthscale: 0.284   noise: 0.034\n",
      "Iter 38/50 - Loss: -0.041   lengthscale: 0.286   noise: 0.032\n",
      "Iter 39/50 - Loss: -0.037   lengthscale: 0.287   noise: 0.031\n",
      "Iter 40/50 - Loss: -0.033   lengthscale: 0.287   noise: 0.031\n",
      "Iter 41/50 - Loss: -0.031   lengthscale: 0.285   noise: 0.030\n",
      "Iter 42/50 - Loss: -0.030   lengthscale: 0.282   noise: 0.030\n",
      "Iter 43/50 - Loss: -0.030   lengthscale: 0.278   noise: 0.030\n",
      "Iter 44/50 - Loss: -0.032   lengthscale: 0.274   noise: 0.030\n",
      "Iter 45/50 - Loss: -0.034   lengthscale: 0.269   noise: 0.030\n",
      "Iter 46/50 - Loss: -0.036   lengthscale: 0.264   noise: 0.031\n",
      "Iter 47/50 - Loss: -0.039   lengthscale: 0.258   noise: 0.031\n",
      "Iter 48/50 - Loss: -0.042   lengthscale: 0.253   noise: 0.032\n",
      "Iter 49/50 - Loss: -0.045   lengthscale: 0.248   noise: 0.033\n",
      "Iter 50/50 - Loss: -0.047   lengthscale: 0.243   noise: 0.034\n"
     ]
    }
   ],
   "source": [
    "# this is for running the notebook in our testing framework\n",
    "import os\n",
    "smoke_test = ('CI' in os.environ)\n",
    "training_iter = 2 if smoke_test else 50\n",
    "\n",
    "\n",
    "# Find optimal model hyperparameters\n",
    "model.train()\n",
    "likelihood.train()\n",
    "\n",
    "# Use the adam optimizer\n",
    "optimizer = torch.optim.Adam(model.parameters(), lr=0.1)  # Includes GaussianLikelihood parameters\n",
    "\n",
    "# \"Loss\" for GPs - the marginal log likelihood\n",
    "mll = gpytorch.mlls.ExactMarginalLogLikelihood(likelihood, model)\n",
    "\n",
    "for i in range(training_iter):\n",
    "    # Zero gradients from previous iteration\n",
    "    optimizer.zero_grad()\n",
    "    # Output from model\n",
    "    output = model(train_x)\n",
    "    # Calc loss and backprop gradients\n",
    "    loss = -mll(output, train_y)\n",
    "    loss.backward()\n",
    "    print('Iter %d/%d - Loss: %.3f   lengthscale: %.3f   noise: %.3f' % (\n",
    "        i + 1, training_iter, loss.item(),\n",
    "        model.covar_module.base_kernel.lengthscale.item(),\n",
    "        model.likelihood.noise.item()\n",
    "    ))\n",
    "    optimizer.step()"
   ]
  },
  {
   "cell_type": "markdown",
   "metadata": {
    "id": "SGZiHPiM8YHB"
   },
   "source": [
    "\n",
    "\n",
    "In this case, the posterior distribution is again another Gaussian process.\n"
   ]
  },
  {
   "cell_type": "code",
   "execution_count": 5,
   "metadata": {
    "id": "4cQGxLZKb3qG",
    "ExecuteTime": {
     "end_time": "2024-04-27T17:56:23.189174700Z",
     "start_time": "2024-04-27T17:56:23.126362700Z"
    }
   },
   "outputs": [],
   "source": [
    "# Get into evaluation (predictive posterior) mode\n",
    "model.eval()\n",
    "likelihood.eval()\n",
    "\n",
    "# Test points are regularly spaced along [0,1]\n",
    "# Make predictions by feeding model through likelihood\n",
    "with torch.no_grad(), gpytorch.settings.fast_pred_var():\n",
    "    test_x = torch.linspace(0, 1, 51)\n",
    "    observed_pred = likelihood(model(test_x))\n",
    "\n",
    "f_preds = model(test_x)\n",
    "y_preds = likelihood(model(test_x))\n",
    "\n",
    "f_mean = f_preds.mean\n",
    "f_var = f_preds.variance\n",
    "f_covar = f_preds.covariance_matrix\n",
    "#f_samples = f_preds.sample(sample_shape=torch.Size(1000,))"
   ]
  },
  {
   "cell_type": "code",
   "execution_count": 6,
   "metadata": {
    "colab": {
     "base_uri": "https://localhost:8080/",
     "height": 297
    },
    "id": "u4hduUpFcDf4",
    "outputId": "7df686cb-e186-4f57-8763-d4c70641d358",
    "ExecuteTime": {
     "end_time": "2024-04-27T17:56:23.292965500Z",
     "start_time": "2024-04-27T17:56:23.149159100Z"
    }
   },
   "outputs": [
    {
     "data": {
      "text/plain": "<Figure size 400x300 with 1 Axes>",
      "image/png": "[encoded data removed]"
     },
     "metadata": {},
     "output_type": "display_data"
    }
   ],
   "source": [
    "with torch.no_grad():\n",
    "    # Initialize plot\n",
    "    f, ax = plt.subplots(1, 1, figsize=(4, 3))\n",
    "\n",
    "    # Get upper and lower confidence bounds\n",
    "    lower, upper = observed_pred.confidence_region()\n",
    "    # Plot training data as black stars\n",
    "    ax.plot(train_x.numpy(), train_y.numpy(), 'k*')\n",
    "    # Plot predictive means as blue line\n",
    "    ax.plot(test_x.numpy(), observed_pred.mean.numpy(), 'b')\n",
    "    # Shade between the lower and upper confidence bounds\n",
    "    ax.fill_between(test_x.numpy(), lower.numpy(), upper.numpy(), alpha=0.5)\n",
    "    ax.set_ylim([-3, 3])\n",
    "    ax.legend(['Observed Data', 'Mean', 'Confidence'])"
   ]
  }
 ],
 "metadata": {
  "colab": {
   "provenance": []
  },
  "kernelspec": {
   "display_name": "Python 3 (ipykernel)",
   "language": "python",
   "name": "python3"
  },
  "language_info": {
   "codemirror_mode": {
    "name": "ipython",
    "version": 3
   },
   "file_extension": ".py",
   "mimetype": "text/x-python",
   "name": "python",
   "nbconvert_exporter": "python",
   "pygments_lexer": "ipython3",
   "version": "3.10.12"
  }
 },
 "nbformat": 4,
 "nbformat_minor": 0
}
