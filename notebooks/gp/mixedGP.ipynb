{
 "cells": [
  {
   "cell_type": "markdown",
   "source": [
    "# Mixed GPs"
   ],
   "metadata": {
    "collapsed": false
   },
   "id": "8d25ff17a1cd88bb"
  },
  {
   "cell_type": "markdown",
   "source": [
    "BoTorch features a MixedSingleTaskGP model which is ideal for modelling the action-value (Q) function. For Q-learning we assume the set of actions $\\mathcal{A}$ is discrete, while $\\mathcal{S}$ may be continuous. Since the input to the GP is a point $z \\in \\mathcal{S} \\times \\mathcal{A}$ it is useful to take into account that the action set is discrete. For example, the MixedSingleTaskGP uses a custom kernel that combines a CategoricalKernel (based on Hamming distances) and a regular kernel of the form:\n",
    "$$\n",
    "k((x_1, c_1), (x_2, c_2)) = k_{cont1}(x_1, x_2) + k_{cat1}(c_1, c_2) + k_{cont2}(x_1, x_2) \\cdot k_{cat2}(c_1,c-2)\n",
    "$$"
   ],
   "metadata": {
    "collapsed": false
   },
   "id": "649380218edd235a"
  },
  {
   "cell_type": "code",
   "outputs": [
    {
     "name": "stdout",
     "output_type": "stream",
     "text": [
      "tensor([[0.3749, 0.8452, 1.0000],\n",
      "        [0.6278, 0.3880, 0.0000],\n",
      "        [0.6491, 0.8290, 1.0000],\n",
      "        [0.3658, 0.9635, 1.0000],\n",
      "        [0.1208, 0.4997, 0.0000],\n",
      "        [0.1256, 0.7649, 0.0000],\n",
      "        [0.2193, 0.9901, 0.0000],\n",
      "        [0.2026, 0.1566, 0.0000],\n",
      "        [0.1372, 0.2535, 1.0000],\n",
      "        [0.2437, 0.5655, 1.0000]], dtype=torch.float64)\n",
      "tensor([[[-1.6223],\n",
      "         [ 0.3104],\n",
      "         [-0.2363],\n",
      "         [-1.3751],\n",
      "         [-0.4650]]], dtype=torch.float64)\n"
     ]
    }
   ],
   "source": [
    "from botorch.models.transforms import Standardize\n",
    "from botorch import fit_gpytorch_mll\n",
    "from gpytorch import ExactMarginalLogLikelihood\n",
    "import torch\n",
    "from botorch.models import MixedSingleTaskGP\n",
    "from botorch.utils.transforms import normalize, unnormalize\n",
    "from botorch.utils.sampling import draw_sobol_samples\n",
    "\n",
    "# Define your data\n",
    "X_continuous = torch.rand(10, 2, dtype=torch.double)  # Example continuous features\n",
    "X_discrete = torch.randint(0, 2, (10, 1))  # Example discrete features\n",
    "y = torch.randn(10, 1, dtype=torch.double)  # Example function values\n",
    "\n",
    "# Normalize continuous features\n",
    "X_continuous_norm = normalize(X_continuous, bounds=torch.tensor([[0, 0], [1, 1]]))\n",
    "\n",
    "# Combine continuous and discrete features\n",
    "X_mixed = torch.cat([X_continuous_norm, X_discrete.float()], dim=-1)\n",
    "\n",
    "print(X_mixed)\n",
    "\n",
    "# Define which dimensions are categorical\n",
    "cat_dims = [2]  # Assuming the discrete feature is the third column (indexing starts from 0)\n",
    "\n",
    "# Initialize the model\n",
    "model = MixedSingleTaskGP(X_mixed, y, cat_dims=cat_dims,\n",
    "                          outcome_transform=Standardize(m=1))\n",
    "\n",
    "mll = ExactMarginalLogLikelihood(model.likelihood, model)\n",
    "\n",
    "fit_gpytorch_mll(mll)\n",
    "\n",
    "# Perform predictions\n",
    "X_test_continuous = torch.rand(5, 2)  # Example test continuous features\n",
    "X_test_discrete = torch.randint(0, 2, (5, 1))  # Example test discrete features\n",
    "X_test_continuous_norm = normalize(X_test_continuous, bounds=torch.tensor([[0, 0], [1, 1]]))\n",
    "X_test_mixed = torch.cat([X_test_continuous_norm, X_test_discrete.float()], dim=-1)\n",
    "\n",
    "# Make predictions\n",
    "with torch.no_grad():\n",
    "    posterior = model.posterior(X_test_mixed)\n",
    "    posterior_samples = posterior.rsample()\n",
    "\n",
    "# You can then use these posterior samples for various purposes, e.g., optimization, decision making, etc.\n",
    "print(posterior_samples)"
   ],
   "metadata": {
    "collapsed": true,
    "ExecuteTime": {
     "end_time": "2024-05-09T11:31:41.208286Z",
     "start_time": "2024-05-09T11:31:40.849064Z"
    }
   },
   "id": "initial_id",
   "execution_count": 16
  },
  {
   "cell_type": "markdown",
   "source": [],
   "metadata": {
    "collapsed": false
   },
   "id": "49574d8a43763b46"
  },
  {
   "cell_type": "code",
   "outputs": [],
   "source": [
    "import matplotlib.pyplot as plt\n",
    "import numpy as np\n",
    "from scipy.stats import norm\n",
    "\n",
    "# Extract the discrete actions and the corresponding posterior samples\n",
    "X_test_discrete_np = X_test_discrete.numpy().flatten()\n",
    "posterior_samples_np = posterior_samples.numpy()\n"
   ],
   "metadata": {
    "collapsed": false,
    "ExecuteTime": {
     "end_time": "2024-05-09T11:31:41.211481Z",
     "start_time": "2024-05-09T11:31:41.209362Z"
    }
   },
   "id": "f8699f2f7fe3aac1",
   "execution_count": 17
  },
  {
   "cell_type": "code",
   "outputs": [
    {
     "name": "stderr",
     "output_type": "stream",
     "text": [
      "/home/matthijs/bsc/BachelorProject/.venv/lib/python3.10/site-packages/scipy/stats/_distn_infrastructure.py:1986: RuntimeWarning: invalid value encountered in divide\n",
      "  x = np.asarray((x - loc)/scale, dtype=dtyp)\n"
     ]
    },
    {
     "data": {
      "text/plain": "<Figure size 800x600 with 2 Axes>",
      "image/png": "[encoded data removed]"
     },
     "metadata": {},
     "output_type": "display_data"
    }
   ],
   "source": [
    "import matplotlib.pyplot as plt\n",
    "import numpy as np\n",
    "from scipy.stats import norm\n",
    "\n",
    "def visualize_gaussians_for_actions(posterior_samples, action_size):\n",
    "    \"\"\"\n",
    "    Visualize the Gaussian distributions for each action.\n",
    "    :param posterior_samples: Posterior samples of the Q-function GP model.\n",
    "    :param action_size: The number of possible actions.\n",
    "    \"\"\"\n",
    "    fig, axs = plt.subplots(action_size, 1, figsize=(8, 6), sharex=True)\n",
    "\n",
    "    for i in range(action_size):\n",
    "        ax = axs[i]\n",
    "        action_samples = posterior_samples[:, i]\n",
    "\n",
    "        # Compute the mean and standard deviation of the samples\n",
    "        mean = np.mean(action_samples)\n",
    "        std = np.std(action_samples)\n",
    "\n",
    "        # Plot the PDF of the Gaussian distribution\n",
    "        x_values = np.linspace(mean - 3*std, mean + 3*std, 100)\n",
    "        pdf = norm.pdf(x_values, mean, std)\n",
    "        ax.plot(x_values, pdf, label=f'Action {i}')\n",
    "\n",
    "        ax.set_ylabel(f'Action {i} PDF')\n",
    "        ax.grid(True)\n",
    "\n",
    "    plt.xlabel('Value')\n",
    "    plt.tight_layout()\n",
    "    plt.show()\n",
    "\n",
    "# Example usage\n",
    "visualize_gaussians_for_actions(posterior_samples_np, action_size=2)  # Adjust action_size as needed\n"
   ],
   "metadata": {
    "collapsed": false,
    "ExecuteTime": {
     "end_time": "2024-05-09T11:31:41.329035Z",
     "start_time": "2024-05-09T11:31:41.212263Z"
    }
   },
   "id": "c723d02b7407f57a",
   "execution_count": 18
  }
 ],
 "metadata": {
  "kernelspec": {
   "display_name": "Python 3",
   "language": "python",
   "name": "python3"
  },
  "language_info": {
   "codemirror_mode": {
    "name": "ipython",
    "version": 2
   },
   "file_extension": ".py",
   "mimetype": "text/x-python",
   "name": "python",
   "nbconvert_exporter": "python",
   "pygments_lexer": "ipython2",
   "version": "2.7.6"
  }
 },
 "nbformat": 4,
 "nbformat_minor": 5
}
