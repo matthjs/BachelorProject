{
 "cells": [
  {
   "cell_type": "markdown",
   "metadata": {},
   "source": []
  },
  {
   "cell_type": "code",
   "execution_count": 1,
   "metadata": {
    "ExecuteTime": {
     "end_time": "2024-04-13T09:25:40.204200100Z",
     "start_time": "2024-04-13T09:25:33.754553400Z"
    }
   },
   "outputs": [
    {
     "data": {
      "text/plain": "(tensor([5, 5], device='cuda:0'),\n tensor([6, 6], device='cuda:0'),\n tensor([7, 7], device='cuda:0'),\n tensor([8, 8], device='cuda:0'))"
     },
     "execution_count": 1,
     "metadata": {},
     "output_type": "execute_result"
    }
   ],
   "source": [
    "import torch\n",
    "from torchrl.data import ReplayBuffer, LazyTensorStorage\n",
    "\n",
    "buf = ReplayBuffer(storage=LazyTensorStorage(\n",
    "                    max_size=5,\n",
    "                    device='cuda'),\n",
    "                    batch_size=2)        # Sample 2 trajectories each time.\n",
    "\n",
    "trajectory1 = (torch.as_tensor(1), torch.as_tensor(2), torch.as_tensor(3), torch.as_tensor(4))    # S, A, R, S\n",
    "trajectory2 = (torch.as_tensor(5), torch.as_tensor(6), torch.as_tensor(7), torch.as_tensor(8))\n",
    "trajectory3 = (torch.as_tensor(9), torch.as_tensor(10), torch.as_tensor(11), torch.as_tensor(12))\n",
    "\n",
    "buf.add(trajectory1)\n",
    "buf.add(trajectory2)\n",
    "buf.add(trajectory3)\n",
    "\n",
    "# buf.sample()     # prints state batch, action batch, reward batch and next state batch.\n"
   ]
  },
  {
   "cell_type": "code",
   "execution_count": 2,
   "outputs": [
    {
     "name": "stdout",
     "output_type": "stream",
     "text": [
      "episode are grouped tensor([1, 1, 4, 4, 2, 2, 2, 2], dtype=torch.int32)\n",
      "steps are successive tensor([0, 1, 1, 2, 0, 1, 0, 1])\n"
     ]
    }
   ],
   "source": [
    "from tensordict import TensorDict\n",
    "from torchrl.data import SliceSampler, TensorDictReplayBuffer, LazyMemmapStorage\n",
    "\n",
    "size=20\n",
    "\n",
    "rb = TensorDictReplayBuffer(\n",
    "    storage=LazyMemmapStorage(size),\n",
    "    sampler=SliceSampler(traj_key=\"episode\", num_slices=4),\n",
    "    batch_size=8,\n",
    ")\n",
    "episode = torch.zeros(10, dtype=torch.int)\n",
    "episode[:3] = 1\n",
    "episode[3:5] = 2\n",
    "episode[5:7] = 3\n",
    "episode[7:] = 4\n",
    "steps = torch.cat([torch.arange(3), torch.arange(2), torch.arange(2), torch.arange(3)])\n",
    "data = TensorDict(\n",
    "    {\n",
    "        \"episode\": episode,\n",
    "        \"obs\": torch.randn((3, 4, 5)).expand(10, 3, 4, 5),\n",
    "        \"act\": torch.randn((20,)).expand(10, 20),\n",
    "        \"other\": torch.randn((20, 50)).expand(10, 20, 50),\n",
    "        \"steps\": steps,\n",
    "    },\n",
    "    [10],\n",
    ")\n",
    "rb.extend(data)\n",
    "sample = rb.sample()\n",
    "print(\"episode are grouped\", sample[\"episode\"])\n",
    "print(\"steps are successive\", sample[\"steps\"])"
   ],
   "metadata": {
    "collapsed": false,
    "ExecuteTime": {
     "end_time": "2024-04-13T10:17:14.392362100Z",
     "start_time": "2024-04-13T10:17:14.224669200Z"
    }
   }
  },
  {
   "cell_type": "code",
   "execution_count": 8,
   "outputs": [
    {
     "name": "stdout",
     "output_type": "stream",
     "text": [
      "tensor([[1., 1., 1., 1.],\n",
      "        [1., 1., 1., 1.],\n",
      "        [1., 1., 1., 1.]])\n"
     ]
    }
   ],
   "source": [
    "data = TensorDict(\n",
    "    {\n",
    "        \"observation\": torch.ones(3, 4), # tensor at root level\n",
    "        \"next\": {\"observation\": torch.ones(3, 4)} # a nested tensordict\n",
    "    },\n",
    "    batch_size=[3]\n",
    ")\n",
    "\n",
    "a = data[\"next\", \"observation\"]\n",
    "print(a)"
   ],
   "metadata": {
    "collapsed": false,
    "ExecuteTime": {
     "end_time": "2024-04-13T11:50:37.871438100Z",
     "start_time": "2024-04-13T11:50:37.819754800Z"
    }
   }
  }
 ],
 "metadata": {
  "kernelspec": {
   "display_name": ".venv",
   "language": "python",
   "name": "python3"
  },
  "language_info": {
   "codemirror_mode": {
    "name": "ipython",
    "version": 3
   },
   "file_extension": ".py",
   "mimetype": "text/x-python",
   "name": "python",
   "nbconvert_exporter": "python",
   "pygments_lexer": "ipython3",
   "version": "3.10.12"
  }
 },
 "nbformat": 4,
 "nbformat_minor": 2
}
