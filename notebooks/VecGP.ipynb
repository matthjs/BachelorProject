{
 "cells": [
  {
   "cell_type": "markdown",
   "source": [
    "# Gaussian process with vector inputs"
   ],
   "metadata": {
    "collapsed": false
   },
   "id": "f34828329108fa88"
  },
  {
   "cell_type": "markdown",
   "source": [
    "In this notebook we look into Gaussian process regression for function of the form $f : \\mathbb{R}^n \\rightarrow \\mathbb{R}$. "
   ],
   "metadata": {
    "collapsed": false
   },
   "id": "cccc3f88cb7e64d4"
  },
  {
   "cell_type": "markdown",
   "source": [
    "We will assume an offline scenario where the training dataset $\\mathcal{D} = (\\mathbf{x}_i, y_i)_{i=1,...,N}$ is already available with $\\mathbf{x}_i \\in \\mathbb{R}^3, y_i \\in \\mathbb{R}$."
   ],
   "metadata": {
    "collapsed": false
   },
   "id": "a416ec6b9e7f278d"
  },
  {
   "cell_type": "code",
   "execution_count": 23,
   "outputs": [],
   "source": [
    "import torch\n",
    "# Define the training data\n",
    "train_x = torch.randn(100, 3)  # 100 data points, each with 3-dimensional input\n",
    "train_y = torch.sin(train_x[:, 0])  # Target function (sine of first dimension)"
   ],
   "metadata": {
    "collapsed": false,
    "ExecuteTime": {
     "end_time": "2024-04-28T14:55:33.564213200Z",
     "start_time": "2024-04-28T14:55:33.561210300Z"
    }
   },
   "id": "24b4e211a058fd37"
  },
  {
   "cell_type": "code",
   "execution_count": 24,
   "outputs": [],
   "source": [
    "import math\n",
    "import torch\n",
    "import gpytorch\n",
    "from matplotlib import pyplot as plt\n",
    "\n",
    "# We will use the simplest form of GP model, exact inference\n",
    "class ExactGPModel(gpytorch.models.ExactGP):\n",
    "    def __init__(self, train_x, train_y, likelihood):\n",
    "        super(ExactGPModel, self).__init__(train_x, train_y, likelihood)\n",
    "        self.mean_module = gpytorch.means.ConstantMean()\n",
    "        self.covar_module = gpytorch.kernels.ScaleKernel(gpytorch.kernels.RBFKernel())\n",
    "\n",
    "    def forward(self, x):\n",
    "        mean_x = self.mean_module(x)\n",
    "        covar_x = self.covar_module(x)\n",
    "        return gpytorch.distributions.MultivariateNormal(mean_x, covar_x)\n",
    "\n",
    "# initialize likelihood and model\n",
    "likelihood = gpytorch.likelihoods.GaussianLikelihood()\n",
    "model = ExactGPModel(torch.zeros(1, 3), torch.zeros(1), likelihood)"
   ],
   "metadata": {
    "collapsed": false,
    "ExecuteTime": {
     "end_time": "2024-04-28T14:55:33.585868600Z",
     "start_time": "2024-04-28T14:55:33.568228800Z"
    }
   },
   "id": "1f74cbcdf155e546"
  },
  {
   "cell_type": "code",
   "execution_count": 25,
   "outputs": [
    {
     "name": "stdout",
     "output_type": "stream",
     "text": [
      "Iter 1/50 - Loss: 1.039   lengthscale: 0.693   noise: 0.693\n",
      "Iter 2/50 - Loss: 0.991   lengthscale: 0.744   noise: 0.644\n",
      "Iter 3/50 - Loss: 0.942   lengthscale: 0.798   noise: 0.598\n",
      "Iter 4/50 - Loss: 0.893   lengthscale: 0.854   noise: 0.554\n",
      "Iter 5/50 - Loss: 0.844   lengthscale: 0.913   noise: 0.513\n",
      "Iter 6/50 - Loss: 0.795   lengthscale: 0.973   noise: 0.474\n",
      "Iter 7/50 - Loss: 0.747   lengthscale: 1.036   noise: 0.437\n",
      "Iter 8/50 - Loss: 0.698   lengthscale: 1.100   noise: 0.402\n",
      "Iter 9/50 - Loss: 0.651   lengthscale: 1.166   noise: 0.369\n",
      "Iter 10/50 - Loss: 0.603   lengthscale: 1.233   noise: 0.339\n",
      "Iter 11/50 - Loss: 0.557   lengthscale: 1.302   noise: 0.310\n",
      "Iter 12/50 - Loss: 0.511   lengthscale: 1.370   noise: 0.284\n",
      "Iter 13/50 - Loss: 0.466   lengthscale: 1.439   noise: 0.259\n",
      "Iter 14/50 - Loss: 0.421   lengthscale: 1.508   noise: 0.237\n",
      "Iter 15/50 - Loss: 0.377   lengthscale: 1.576   noise: 0.216\n",
      "Iter 16/50 - Loss: 0.334   lengthscale: 1.643   noise: 0.196\n",
      "Iter 17/50 - Loss: 0.292   lengthscale: 1.709   noise: 0.178\n",
      "Iter 18/50 - Loss: 0.249   lengthscale: 1.772   noise: 0.162\n",
      "Iter 19/50 - Loss: 0.208   lengthscale: 1.833   noise: 0.147\n",
      "Iter 20/50 - Loss: 0.166   lengthscale: 1.891   noise: 0.133\n",
      "Iter 21/50 - Loss: 0.125   lengthscale: 1.945   noise: 0.120\n",
      "Iter 22/50 - Loss: 0.084   lengthscale: 1.995   noise: 0.109\n",
      "Iter 23/50 - Loss: 0.043   lengthscale: 2.041   noise: 0.098\n",
      "Iter 24/50 - Loss: 0.002   lengthscale: 2.082   noise: 0.089\n",
      "Iter 25/50 - Loss: -0.039   lengthscale: 2.118   noise: 0.080\n",
      "Iter 26/50 - Loss: -0.080   lengthscale: 2.149   noise: 0.073\n",
      "Iter 27/50 - Loss: -0.121   lengthscale: 2.174   noise: 0.065\n",
      "Iter 28/50 - Loss: -0.162   lengthscale: 2.193   noise: 0.059\n",
      "Iter 29/50 - Loss: -0.203   lengthscale: 2.206   noise: 0.053\n",
      "Iter 30/50 - Loss: -0.244   lengthscale: 2.213   noise: 0.048\n",
      "Iter 31/50 - Loss: -0.286   lengthscale: 2.215   noise: 0.043\n",
      "Iter 32/50 - Loss: -0.327   lengthscale: 2.212   noise: 0.039\n",
      "Iter 33/50 - Loss: -0.369   lengthscale: 2.204   noise: 0.035\n",
      "Iter 34/50 - Loss: -0.411   lengthscale: 2.192   noise: 0.032\n",
      "Iter 35/50 - Loss: -0.452   lengthscale: 2.178   noise: 0.029\n",
      "Iter 36/50 - Loss: -0.493   lengthscale: 2.161   noise: 0.026\n",
      "Iter 37/50 - Loss: -0.533   lengthscale: 2.144   noise: 0.023\n",
      "Iter 38/50 - Loss: -0.572   lengthscale: 2.128   noise: 0.021\n",
      "Iter 39/50 - Loss: -0.611   lengthscale: 2.115   noise: 0.019\n",
      "Iter 40/50 - Loss: -0.649   lengthscale: 2.105   noise: 0.017\n",
      "Iter 41/50 - Loss: -0.687   lengthscale: 2.100   noise: 0.015\n",
      "Iter 42/50 - Loss: -0.724   lengthscale: 2.100   noise: 0.014\n",
      "Iter 43/50 - Loss: -0.762   lengthscale: 2.106   noise: 0.013\n",
      "Iter 44/50 - Loss: -0.800   lengthscale: 2.118   noise: 0.011\n",
      "Iter 45/50 - Loss: -0.839   lengthscale: 2.136   noise: 0.010\n",
      "Iter 46/50 - Loss: -0.877   lengthscale: 2.158   noise: 0.009\n",
      "Iter 47/50 - Loss: -0.915   lengthscale: 2.183   noise: 0.008\n",
      "Iter 48/50 - Loss: -0.953   lengthscale: 2.211   noise: 0.008\n",
      "Iter 49/50 - Loss: -0.990   lengthscale: 2.239   noise: 0.007\n",
      "Iter 50/50 - Loss: -1.027   lengthscale: 2.266   noise: 0.006\n"
     ]
    }
   ],
   "source": [
    "from gpytorch import ExactMarginalLogLikelihood\n",
    "\n",
    "# Initialize likelihood and model\n",
    "model.train()\n",
    "likelihood.train()\n",
    "\n",
    "model.set_train_data(train_x, train_y, strict=False)\n",
    "\n",
    "# Use the adam optimizer\n",
    "optimizer = torch.optim.Adam(model.parameters(), lr=0.1)\n",
    "\n",
    "# \"Loss\" for GPs - the marginal log likelihood\n",
    "mll = ExactMarginalLogLikelihood(likelihood, model)\n",
    "\n",
    "training_iter=50\n",
    "\n",
    "for i in range(training_iter):\n",
    "    # Zero gradients from previous iteration\n",
    "    optimizer.zero_grad()\n",
    "    # Output from model\n",
    "    output = model(train_x)\n",
    "    # Calc loss and backprop gradients\n",
    "    loss = -mll(output, train_y)\n",
    "    loss.backward()\n",
    "    print('Iter %d/%d - Loss: %.3f   lengthscale: %.3f   noise: %.3f' % (\n",
    "        i + 1, training_iter, loss.item(),\n",
    "        model.covar_module.base_kernel.lengthscale.item(),\n",
    "        model.likelihood.noise.item()\n",
    "    ))\n",
    "    optimizer.step()"
   ],
   "metadata": {
    "collapsed": false,
    "ExecuteTime": {
     "end_time": "2024-04-28T14:55:33.742427100Z",
     "start_time": "2024-04-28T14:55:33.577866Z"
    }
   },
   "id": "973dca24015264c9"
  },
  {
   "cell_type": "code",
   "execution_count": 26,
   "outputs": [
    {
     "name": "stdout",
     "output_type": "stream",
     "text": [
      "Predicted means: tensor([ 0.9768,  1.0100,  0.7992,  0.9524,  0.9367, -0.3206, -0.9616,  0.2639,\n",
      "        -0.3301,  0.6737])\n",
      "Predicted variances: tensor([0.0128, 0.0083, 0.0090, 0.0093, 0.0121, 0.0076, 0.0102, 0.0163, 0.0064,\n",
      "        0.0284])\n"
     ]
    }
   ],
   "source": [
    "# Set the model and likelihood into eval mode\n",
    "model.eval()\n",
    "likelihood.eval()\n",
    "\n",
    "# Make predictions\n",
    "test_x = torch.randn(10, 3)  # 10 test points\n",
    "with torch.no_grad(), gpytorch.settings.fast_pred_var():\n",
    "    observed_pred = likelihood(model(test_x))\n",
    "\n",
    "print(\"Predicted means:\", observed_pred.mean)\n",
    "print(\"Predicted variances:\", observed_pred.variance)"
   ],
   "metadata": {
    "collapsed": false,
    "ExecuteTime": {
     "end_time": "2024-04-28T14:55:33.755506800Z",
     "start_time": "2024-04-28T14:55:33.745954700Z"
    }
   },
   "id": "3af4e92195f188d3"
  }
 ],
 "metadata": {
  "kernelspec": {
   "display_name": "Python 3",
   "language": "python",
   "name": "python3"
  },
  "language_info": {
   "codemirror_mode": {
    "name": "ipython",
    "version": 2
   },
   "file_extension": ".py",
   "mimetype": "text/x-python",
   "name": "python",
   "nbconvert_exporter": "python",
   "pygments_lexer": "ipython2",
   "version": "2.7.6"
  }
 },
 "nbformat": 4,
 "nbformat_minor": 5
}
