{
 "cells": [
  {
   "cell_type": "markdown",
   "source": [
    "# Gaussian process with vector inputs"
   ],
   "metadata": {
    "collapsed": false
   },
   "id": "f34828329108fa88"
  },
  {
   "cell_type": "markdown",
   "source": [
    "In this notebook we look into Gaussian process regression for function of the form $f : \\mathbb{R}^n \\rightarrow \\mathbb{R}$. "
   ],
   "metadata": {
    "collapsed": false
   },
   "id": "cccc3f88cb7e64d4"
  },
  {
   "cell_type": "markdown",
   "source": [
    "We will assume an offline scenario where the training dataset $\\mathcal{D} = (\\mathbf{x}_i, y_i)_{i=1,...,N}$ is already available with $\\mathbf{x}_i \\in \\mathbb{R}^3, y_i \\in \\mathbb{R}$."
   ],
   "metadata": {
    "collapsed": false
   },
   "id": "a416ec6b9e7f278d"
  },
  {
   "cell_type": "code",
   "execution_count": 1,
   "outputs": [
    {
     "data": {
      "text/plain": "'/home/matthijs/bsc/BachelorProject/notebooks'"
     },
     "execution_count": 1,
     "metadata": {},
     "output_type": "execute_result"
    }
   ],
   "source": [
    "import os\n",
    "\n",
    "os.getcwd()"
   ],
   "metadata": {
    "collapsed": false,
    "ExecuteTime": {
     "end_time": "2024-05-01T10:29:44.574191800Z",
     "start_time": "2024-05-01T10:29:44.487643300Z"
    }
   },
   "id": "67af909d9fbd5285"
  },
  {
   "cell_type": "code",
   "execution_count": 2,
   "outputs": [],
   "source": [
    "import torch\n",
    "# Define the training data\n",
    "train_x = torch.randn(100, 3)  # 100 data points, each with 3-dimensional input\n",
    "train_y = torch.sin(train_x[:, 0])  # Target function (sine of first dimension)"
   ],
   "metadata": {
    "collapsed": false,
    "ExecuteTime": {
     "end_time": "2024-05-01T10:29:57.022198200Z",
     "start_time": "2024-05-01T10:29:55.468543300Z"
    }
   },
   "id": "24b4e211a058fd37"
  },
  {
   "cell_type": "code",
   "execution_count": 6,
   "outputs": [],
   "source": [
    "import math\n",
    "import torch\n",
    "import gpytorch\n",
    "from matplotlib import pyplot as plt\n",
    "\n",
    "# We will use the simplest form of GP model, exact inference\n",
    "class ExactGPModel(gpytorch.models.ExactGP):\n",
    "    def __init__(self, train_x, train_y, likelihood):\n",
    "        super(ExactGPModel, self).__init__(train_x, train_y, likelihood)\n",
    "        self.mean_module = gpytorch.means.ConstantMean()\n",
    "        self.covar_module = gpytorch.kernels.ScaleKernel(gpytorch.kernels.RBFKernel())\n",
    "\n",
    "    def forward(self, x):\n",
    "        mean_x = self.mean_module(x)\n",
    "        covar_x = self.covar_module(x)\n",
    "        return gpytorch.distributions.MultivariateNormal(mean_x, covar_x)\n",
    "\n",
    "# initialize likelihood and model\n",
    "likelihood = gpytorch.likelihoods.GaussianLikelihood()\n",
    "model = ExactGPModel(torch.zeros(1, 3), torch.zeros(1), likelihood)"
   ],
   "metadata": {
    "collapsed": false,
    "ExecuteTime": {
     "end_time": "2024-04-28T19:26:40.415860300Z",
     "start_time": "2024-04-28T19:26:40.397433100Z"
    }
   },
   "id": "1f74cbcdf155e546"
  },
  {
   "cell_type": "code",
   "execution_count": 7,
   "outputs": [
    {
     "name": "stdout",
     "output_type": "stream",
     "text": [
      "Iter 1/50 - Loss: 1.050   lengthscale: 0.693   noise: 0.693\n",
      "Iter 2/50 - Loss: 1.001   lengthscale: 0.744   noise: 0.644\n",
      "Iter 3/50 - Loss: 0.953   lengthscale: 0.798   noise: 0.598\n",
      "Iter 4/50 - Loss: 0.904   lengthscale: 0.854   noise: 0.554\n",
      "Iter 5/50 - Loss: 0.855   lengthscale: 0.913   noise: 0.513\n",
      "Iter 6/50 - Loss: 0.806   lengthscale: 0.974   noise: 0.474\n",
      "Iter 7/50 - Loss: 0.758   lengthscale: 1.036   noise: 0.437\n",
      "Iter 8/50 - Loss: 0.710   lengthscale: 1.101   noise: 0.402\n",
      "Iter 9/50 - Loss: 0.662   lengthscale: 1.167   noise: 0.369\n",
      "Iter 10/50 - Loss: 0.615   lengthscale: 1.235   noise: 0.339\n",
      "Iter 11/50 - Loss: 0.568   lengthscale: 1.303   noise: 0.310\n",
      "Iter 12/50 - Loss: 0.523   lengthscale: 1.372   noise: 0.284\n",
      "Iter 13/50 - Loss: 0.478   lengthscale: 1.442   noise: 0.259\n",
      "Iter 14/50 - Loss: 0.434   lengthscale: 1.511   noise: 0.237\n",
      "Iter 15/50 - Loss: 0.391   lengthscale: 1.579   noise: 0.216\n",
      "Iter 16/50 - Loss: 0.349   lengthscale: 1.646   noise: 0.196\n",
      "Iter 17/50 - Loss: 0.307   lengthscale: 1.712   noise: 0.178\n",
      "Iter 18/50 - Loss: 0.267   lengthscale: 1.775   noise: 0.162\n",
      "Iter 19/50 - Loss: 0.227   lengthscale: 1.835   noise: 0.147\n",
      "Iter 20/50 - Loss: 0.187   lengthscale: 1.892   noise: 0.133\n",
      "Iter 21/50 - Loss: 0.147   lengthscale: 1.944   noise: 0.120\n",
      "Iter 22/50 - Loss: 0.108   lengthscale: 1.992   noise: 0.109\n",
      "Iter 23/50 - Loss: 0.069   lengthscale: 2.034   noise: 0.098\n",
      "Iter 24/50 - Loss: 0.029   lengthscale: 2.071   noise: 0.089\n",
      "Iter 25/50 - Loss: -0.010   lengthscale: 2.102   noise: 0.080\n",
      "Iter 26/50 - Loss: -0.051   lengthscale: 2.127   noise: 0.073\n",
      "Iter 27/50 - Loss: -0.091   lengthscale: 2.145   noise: 0.066\n",
      "Iter 28/50 - Loss: -0.132   lengthscale: 2.156   noise: 0.059\n",
      "Iter 29/50 - Loss: -0.174   lengthscale: 2.162   noise: 0.053\n",
      "Iter 30/50 - Loss: -0.216   lengthscale: 2.162   noise: 0.048\n",
      "Iter 31/50 - Loss: -0.258   lengthscale: 2.156   noise: 0.043\n",
      "Iter 32/50 - Loss: -0.300   lengthscale: 2.146   noise: 0.039\n",
      "Iter 33/50 - Loss: -0.342   lengthscale: 2.133   noise: 0.035\n",
      "Iter 34/50 - Loss: -0.383   lengthscale: 2.118   noise: 0.032\n",
      "Iter 35/50 - Loss: -0.424   lengthscale: 2.102   noise: 0.029\n",
      "Iter 36/50 - Loss: -0.464   lengthscale: 2.088   noise: 0.026\n",
      "Iter 37/50 - Loss: -0.502   lengthscale: 2.075   noise: 0.023\n",
      "Iter 38/50 - Loss: -0.541   lengthscale: 2.067   noise: 0.021\n",
      "Iter 39/50 - Loss: -0.578   lengthscale: 2.063   noise: 0.019\n",
      "Iter 40/50 - Loss: -0.616   lengthscale: 2.065   noise: 0.017\n",
      "Iter 41/50 - Loss: -0.654   lengthscale: 2.073   noise: 0.015\n",
      "Iter 42/50 - Loss: -0.692   lengthscale: 2.087   noise: 0.014\n",
      "Iter 43/50 - Loss: -0.730   lengthscale: 2.107   noise: 0.013\n",
      "Iter 44/50 - Loss: -0.768   lengthscale: 2.132   noise: 0.011\n",
      "Iter 45/50 - Loss: -0.807   lengthscale: 2.161   noise: 0.010\n",
      "Iter 46/50 - Loss: -0.845   lengthscale: 2.193   noise: 0.009\n",
      "Iter 47/50 - Loss: -0.882   lengthscale: 2.227   noise: 0.008\n",
      "Iter 48/50 - Loss: -0.919   lengthscale: 2.260   noise: 0.008\n",
      "Iter 49/50 - Loss: -0.955   lengthscale: 2.291   noise: 0.007\n",
      "Iter 50/50 - Loss: -0.990   lengthscale: 2.318   noise: 0.006\n"
     ]
    }
   ],
   "source": [
    "from gpytorch import ExactMarginalLogLikelihood\n",
    "\n",
    "# Initialize likelihood and model\n",
    "model.train()\n",
    "likelihood.train()\n",
    "\n",
    "model.set_train_data(train_x, train_y, strict=False)\n",
    "\n",
    "# Use the adam optimizer\n",
    "optimizer = torch.optim.Adam(model.parameters(), lr=0.1)\n",
    "\n",
    "# \"Loss\" for GPs - the marginal log likelihood\n",
    "mll = ExactMarginalLogLikelihood(likelihood, model)\n",
    "\n",
    "training_iter=50\n",
    "\n",
    "for i in range(training_iter):\n",
    "    # Zero gradients from previous iteration\n",
    "    optimizer.zero_grad()\n",
    "    # Output from model\n",
    "    output = model(train_x)\n",
    "    # Calc loss and backprop gradients\n",
    "    loss = -mll(output, train_y)\n",
    "    loss.backward()\n",
    "    print('Iter %d/%d - Loss: %.3f   lengthscale: %.3f   noise: %.3f' % (\n",
    "        i + 1, training_iter, loss.item(),\n",
    "        model.covar_module.base_kernel.lengthscale.item(),\n",
    "        model.likelihood.noise.item()\n",
    "    ))\n",
    "    optimizer.step()"
   ],
   "metadata": {
    "collapsed": false,
    "ExecuteTime": {
     "end_time": "2024-04-28T19:26:40.574768700Z",
     "start_time": "2024-04-28T19:26:40.413868Z"
    }
   },
   "id": "973dca24015264c9"
  },
  {
   "cell_type": "code",
   "execution_count": 8,
   "outputs": [
    {
     "name": "stdout",
     "output_type": "stream",
     "text": [
      "Predicted means: tensor([ 0.9575,  0.0971, -0.9676, -0.0219,  0.5669,  0.4681, -0.5755,  0.8963,\n",
      "        -0.4611, -1.0742])\n",
      "Predicted variances: tensor([0.0080, 0.0074, 0.0066, 0.0066, 0.0070, 0.0357, 0.0063, 0.0067, 0.0062,\n",
      "        0.0190])\n"
     ]
    }
   ],
   "source": [
    "# Set the model and likelihood into eval mode\n",
    "model.eval()\n",
    "likelihood.eval()\n",
    "\n",
    "# Make predictions\n",
    "test_x = torch.randn(10, 3)  # 10 test points\n",
    "with torch.no_grad(), gpytorch.settings.fast_pred_var():\n",
    "    observed_pred = likelihood(model(test_x))\n",
    "\n",
    "print(\"Predicted means:\", observed_pred.mean)\n",
    "print(\"Predicted variances:\", observed_pred.variance)"
   ],
   "metadata": {
    "collapsed": false,
    "ExecuteTime": {
     "end_time": "2024-04-28T19:26:40.586799300Z",
     "start_time": "2024-04-28T19:26:40.573762600Z"
    }
   },
   "id": "3af4e92195f188d3"
  }
 ],
 "metadata": {
  "kernelspec": {
   "display_name": "Python 3",
   "language": "python",
   "name": "python3"
  },
  "language_info": {
   "codemirror_mode": {
    "name": "ipython",
    "version": 2
   },
   "file_extension": ".py",
   "mimetype": "text/x-python",
   "name": "python",
   "nbconvert_exporter": "python",
   "pygments_lexer": "ipython2",
   "version": "2.7.6"
  }
 },
 "nbformat": 4,
 "nbformat_minor": 5
}
