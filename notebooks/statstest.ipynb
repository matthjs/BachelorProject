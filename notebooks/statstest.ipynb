{
 "cells": [
  {
   "cell_type": "code",
   "execution_count": 1,
   "id": "initial_id",
   "metadata": {
    "collapsed": true,
    "ExecuteTime": {
     "end_time": "2024-05-11T09:26:52.700180200Z",
     "start_time": "2024-05-11T09:26:51.985655600Z"
    }
   },
   "outputs": [
    {
     "name": "stdout",
     "output_type": "stream",
     "text": [
      "Test Statistic: 2.6111648393354674\n",
      "P-value: 0.009023438818080326\n"
     ]
    }
   ],
   "source": [
    "from scipy.stats import ranksums\n",
    "\n",
    "# Sample data for two groups\n",
    "group1 = [21, 22, 23, 24, 25]\n",
    "group2 = [16, 17, 18, 19, 20]\n",
    "\n",
    "# Perform Wilcoxon rank-sum test\n",
    "statistic, p_value = ranksums(group1, group2)\n",
    "\n",
    "# Output the test statistic and p-value\n",
    "print(\"Test Statistic:\", statistic)\n",
    "print(\"P-value:\", p_value)\n"
   ]
  }
 ],
 "metadata": {
  "kernelspec": {
   "display_name": "Python 3",
   "language": "python",
   "name": "python3"
  },
  "language_info": {
   "codemirror_mode": {
    "name": "ipython",
    "version": 2
   },
   "file_extension": ".py",
   "mimetype": "text/x-python",
   "name": "python",
   "nbconvert_exporter": "python",
   "pygments_lexer": "ipython2",
   "version": "2.7.6"
  }
 },
 "nbformat": 4,
 "nbformat_minor": 5
}
