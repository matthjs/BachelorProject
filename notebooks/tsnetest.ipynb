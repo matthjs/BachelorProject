{
 "cells": [
  {
   "cell_type": "markdown",
   "source": [
    "# GPU Accelerated dimensionality reduction with TSNE in online setting"
   ],
   "metadata": {
    "collapsed": false
   },
   "id": "fac02d936419f00b"
  },
  {
   "cell_type": "markdown",
   "source": [
    "Context: We have a dataset $\\mathcal{D}$ of $n$-dimensional vectors that continually grows. What we want is to maintain a TSNE model for dimensionality reduction to 2-dimensions that is fitted to $\\mathcal{D}$."
   ],
   "metadata": {
    "collapsed": false
   },
   "id": "e4afbc0de18b9789"
  },
  {
   "cell_type": "code",
   "execution_count": null,
   "outputs": [],
   "source": [
    "import torch\n",
    "import cupy as cp\n",
    "from openTSNE import TSNE\n",
    "from openTSNE import initialization\n",
    "\n",
    "# Initialize a PyTorch tensor\n",
    "initial_data = torch.randn(500, 50, device='cuda')  # Initial 500 samples, 50 features\n",
    "\n",
    "# Convert PyTorch tensor to CuPy array\n",
    "initial_data = cp.asarray(initial_data.cpu().numpy())\n",
    "\n",
    "# Initialize t-SNE\n",
    "tsne = TSNE(perplexity=30, n_iter=300, verbose=True)\n",
    "init = initialization.pca(initial_data)\n",
    "embedding = tsne.fit(initial_data, initialization=init)\n",
    "\n",
    "# Incrementally add new data points\n",
    "new_data = torch.randn(100, 50, device='cuda')  # New 100 samples, 50 features\n",
    "new_data = cp.asarray(new_data.cpu().numpy())\n",
    "embedding.transform(new_data, n_iter=200, inplace=True)\n",
    "\n",
    "# Convert the final embedding back to PyTorch tensor if needed\n",
    "final_embedding = torch.tensor(cp.asnumpy(embedding), device='cuda')\n",
    "\n",
    "print(final_embedding)\n"
   ],
   "metadata": {
    "collapsed": false
   },
   "id": "40930b3109454139"
  }
 ],
 "metadata": {
  "kernelspec": {
   "display_name": "Python 3",
   "language": "python",
   "name": "python3"
  },
  "language_info": {
   "codemirror_mode": {
    "name": "ipython",
    "version": 2
   },
   "file_extension": ".py",
   "mimetype": "text/x-python",
   "name": "python",
   "nbconvert_exporter": "python",
   "pygments_lexer": "ipython2",
   "version": "2.7.6"
  }
 },
 "nbformat": 4,
 "nbformat_minor": 5
}
